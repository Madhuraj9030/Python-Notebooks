{
 "cells": [
  {
   "cell_type": "code",
   "execution_count": 26,
   "id": "40f5c294",
   "metadata": {},
   "outputs": [
    {
     "name": "stdout",
     "output_type": "stream",
     "text": [
      "30\n"
     ]
    }
   ],
   "source": [
    "#simple workout \n",
    "\n",
    "def add(a,b):\n",
    "    c= a+b\n",
    "    return c\n",
    "\n",
    "def main():\n",
    "    a= 10\n",
    "    b =20\n",
    "    return add(a,b)\n",
    "if __name__ == '__main__':\n",
    "    x = main()\n",
    "    print(x)"
   ]
  },
  {
   "cell_type": "markdown",
   "id": "5114fcb3",
   "metadata": {},
   "source": [
    "###Functions\n",
    "1. A function is a part of  a main program or sub program of a main program \n",
    "there are three phases in a functions\n",
    "    1. input\n",
    "    2. process\n",
    "    3. output/result \n",
    "####Types of parameters or arguments passing techniques\n",
    "1. function with default arguments\n",
    "2. functions with required arguments \n",
    "    1. function with required positional arguments\n",
    "    2. function with required keyword arguments\n",
    "3. functions with variable length arguments\n",
    "    1. function with variable length positional arguments\n",
    "    2. function with variable length keyword arguments\n",
    "####5 -types in the short form \n",
    "1. Positional arguments\n",
    "2. Default arguments\n",
    "3. keyword arguments\n",
    "4. variable length arguments \n",
    "5. keyword variable length arguments\n",
    "\n"
   ]
  },
  {
   "cell_type": "code",
   "execution_count": 7,
   "id": "9c8484bf",
   "metadata": {},
   "outputs": [
    {
     "name": "stdout",
     "output_type": "stream",
     "text": [
      "30\n"
     ]
    }
   ],
   "source": [
    "#positional arguments\n",
    "#this concept says that every argument passing to every parameter based on their position by maintaining the order\n",
    "def fun1(a,b):\n",
    "    c = a+b\n",
    "    print(c)\n",
    "fun1(10, 20)\n"
   ]
  },
  {
   "cell_type": "code",
   "execution_count": 8,
   "id": "dff675ed",
   "metadata": {},
   "outputs": [
    {
     "name": "stdout",
     "output_type": "stream",
     "text": [
      "50\n"
     ]
    }
   ],
   "source": [
    "#Default arguments:\n",
    "#this concept says that every formal parameter in the function definition can have a default value associated with it. (but nor recommended to pass arguments by positional arguments)\n",
    "def fun1(a=20, b=30):\n",
    "    c=a+b\n",
    "    print(c)\n",
    "fun1()"
   ]
  },
  {
   "cell_type": "code",
   "execution_count": 11,
   "id": "16ce129e",
   "metadata": {},
   "outputs": [
    {
     "name": "stdout",
     "output_type": "stream",
     "text": [
      "20\n",
      "30\n",
      "50\n",
      "30\n",
      "20\n",
      "50\n"
     ]
    }
   ],
   "source": [
    "#Keyword arguments\n",
    "#the keyword arguments says that every all formal parameter names used as arguments in function calls as keys \n",
    "def fun1(a, b):\n",
    "    print(a)\n",
    "    print(b)\n",
    "    c=a+b\n",
    "    print(c)\n",
    "fun1(a= 20, b=30)\n",
    "fun1 (b=20,a=30)\n"
   ]
  },
  {
   "cell_type": "code",
   "execution_count": 16,
   "id": "4b3a631d",
   "metadata": {},
   "outputs": [
    {
     "name": "stdout",
     "output_type": "stream",
     "text": [
      "(1, 2, 3, 4, 5, 6, 7, 8) <class 'tuple'> 8\n",
      "(3, 4, 5, 6, 7, 89, 0) <class 'tuple'> 7\n",
      "('a', 'b', 'c', 'd', 'e', 'f', 'g', 'h') <class 'tuple'> 8\n"
     ]
    }
   ],
   "source": [
    "#variable length arguments\n",
    "\"\"\"\n",
    "->when we have a family of multiple similar function calls with variable number of paramaeters or\n",
    " arguments we have to develop multiple function definitions it leads to more developement time\n",
    "->To over come above mentioned problem we must use the concept of variable lenght parameters\n",
    "->in the function definition the parameter prefixed with asterik (*) whose purpose is to hold any \n",
    "    number of values coming from similar function and whose type is called <class, 'tuple'>\n",
    "\"\"\"\n",
    "\n",
    "def fun1(*param):\n",
    "    print(param, type(param), len(param))\n",
    "fun1(1,2,3,4,5,6,7,8,)\n",
    "fun1(3,4,5,6,7,89,0)\n",
    "fun1('a','b','c','d','e','f','g','h')\n"
   ]
  },
  {
   "cell_type": "code",
   "execution_count": 18,
   "id": "6a2aed8e",
   "metadata": {},
   "outputs": [
    {
     "name": "stdout",
     "output_type": "stream",
     "text": [
      "8\n",
      "1\n",
      "2\n",
      "3\n",
      "4\n",
      "5\n",
      "6\n",
      "7\n",
      "8\n"
     ]
    }
   ],
   "source": [
    "def fun1(*param):\n",
    "    print(len(param))\n",
    "    for i in param:\n",
    "        print(i)\n",
    "fun1(1,2,3,4,5,6,7,8,)"
   ]
  },
  {
   "cell_type": "code",
   "execution_count": 21,
   "id": "0aabe2b8",
   "metadata": {},
   "outputs": [
    {
     "name": "stdout",
     "output_type": "stream",
     "text": [
      "student_name:           Madhu\n",
      "student_roll_number:    19CSE\n",
      "student_marks:          150\n",
      "student_name:           Raj\n",
      "student_roll_number:    18CSE\n",
      "student_marks:          350\n"
     ]
    }
   ],
   "source": [
    "def student(sname, sno, *marks):\n",
    "    print(f\"student_name:           {sname}\")\n",
    "    print(f\"student_roll_number:    {sno}\")\n",
    "    print(f'student_marks:          {sum(marks)}')\n",
    "student(\"Madhu\", \"19CSE\", 10,20,30,40,50)\n",
    "student(\"Raj\", \"18CSE\", 90,80,70,60,50)\n"
   ]
  },
  {
   "cell_type": "code",
   "execution_count": 24,
   "id": "7729d510",
   "metadata": {},
   "outputs": [
    {
     "name": "stdout",
     "output_type": "stream",
     "text": [
      "student_name:           Madhu\n",
      "student_roll_number:    19CSE\n",
      "student_marks:          150\n",
      "student_city:           HYD\n",
      "student_crs:           Python\n",
      "student_name:           Raj\n",
      "student_roll_number:    18CSE\n",
      "student_marks:          350\n",
      "student_city:           HYD\n",
      "student_crs:           Java\n"
     ]
    }
   ],
   "source": [
    "def student(sname, sno, *marks, city = \"HYD\", crs =\"Python\"):\n",
    "        print(f\"student_name:           {sname}\")\n",
    "        print(f\"student_roll_number:    {sno}\")\n",
    "        print(f'student_marks:          {sum(marks)}')\n",
    "        print(f\"student_city:           {city}\")\n",
    "        print(f\"student_crs:           {crs}\")\n",
    "student(\"Madhu\", \"19CSE\", 10,20,30,40,50, )\n",
    "student(\"Raj\", \"18CSE\", 90,80,70,60,50,crs=\"Java\")"
   ]
  },
  {
   "cell_type": "code",
   "execution_count": null,
   "id": "eeee87d1",
   "metadata": {},
   "outputs": [
    {
     "name": "stdout",
     "output_type": "stream",
     "text": [
      "100 RS 45.67 OUCET\n",
      "1000 TR 5.6 TCS SE\n",
      "200 abc Sleeping Eating Chatting Roaming\n",
      "300 Rossum PYTHON-JAVA\n",
      "500\n"
     ]
    }
   ],
   "source": [
    "#   keyword variable length params:\n",
    "\"\"\"\n",
    "keyword variable length argument recieves key and values \n",
    "key word variable length argument is tyoe of <class 'dict'>\n",
    "The **param must always written at last part of Function Heading and it must be only one (but not multiple)\n",
    "syntax: \n",
    "def function(**params):\n",
    "    stmts\n",
    "\n",
    "\"\"\"\n",
    "#Program for Demonstrating the Need of  Keyword Variable Length Arguments\n",
    "#This Program will  execute as it is \n",
    "\n",
    "def  dispvalues(sno,sname,marks,cname): # Function Def-1\n",
    "\tprint(sno,sname,marks,cname)\n",
    "\n",
    "dispvalues(sno=100,sname=\"RS\",marks=45.67,cname=\"OUCET\") # Function call-1 with 4-Keyword args\n",
    "#----------------------------------------------------------------------------------------------------------------------------------------------\n",
    "def dispvalues(eno,ename,sal,compname,dsg): # Function Def-2\n",
    "\tprint(eno,ename,sal,compname,dsg)\n",
    "dispvalues(eno=1000,ename=\"TR\",sal=5.6,compname=\"TCS\",dsg=\"SE\") # Function call-2 with 5-Keyword args\n",
    "#----------------------------------------------------------------------------------------------------------------------------------------------\n",
    "def dispvalues(sid,stname,hb1,hb2,hb3,hb4): # Function Def-3\n",
    "\tprint(sid,stname,hb1,hb2,hb3,hb4)\n",
    "dispvalues(sid=200,stname=\"abc\",hb1=\"Sleeping\",hb2=\"Eating\",hb3=\"Chatting\",hb4=\"Roaming\") # Function call-3 with 6-Keyword args\n",
    "#----------------------------------------------------------------------------------------------------------------------------------------------\n",
    "def dispvalues(tno,tname,sub1):\n",
    "\tprint(tno,tname,sub1)\n",
    "dispvalues(tno=300,tname=\"Rossum\",sub1=\"PYTHON-JAVA\")# Function call-4 with 3-Keyword args\n",
    "#----------------------------------------------------------------------------------------------------------------------------------------------\n",
    "def dispvalues(cid) :\n",
    "\tprint(cid)\n",
    "dispvalues(cid=500) # Function call-5 with 1-Keyword arg\n",
    "#----------------------------------------------------------------------------------------------------------------------------------------------\n",
    "\n",
    "\n",
    "#Limitation: \n",
    "# In This Program -- we have 5 function calls---5 function defs\n",
    "#In general ------------we have n-function calls---we need n-Function defs----waste of time takes more development time\n",
    "# We need  n-function calls we have----we need 1 FUNCTION DEFINITION\n"
   ]
  },
  {
   "cell_type": "code",
   "execution_count": 38,
   "id": "a980a460",
   "metadata": {},
   "outputs": [
    {
     "name": "stdout",
     "output_type": "stream",
     "text": [
      "\tsid: 200\n",
      "\tstname: abc\n",
      "\thb1: Sleeping\n",
      "\thb2: Eating\n",
      "\thb3: Chatting\n",
      "\thb4: Roaming\n"
     ]
    }
   ],
   "source": [
    "def dispvalues(**params):\n",
    "    for key, value in params.items():\n",
    "        print(f\"\\t{key }: {value}\")\n",
    "dispvalues(sid=200,stname=\"abc\",hb1=\"Sleeping\",hb2=\"Eating\",hb3=\"Chatting\",hb4=\"Roaming\")"
   ]
  },
  {
   "cell_type": "markdown",
   "id": "9e2e5dbb",
   "metadata": {},
   "source": [
    "The final way syntax for the fucntion is\n",
    "\n",
    "def <function-name>(postional params, *variable length params, default params, **keyword variable length params):stmts\n",
    "\n",
    "####order:\n",
    "1. positional \n",
    "2. Default\n",
    "3. Variable length\n",
    "4. keyword arguments\n",
    "5. keyword variable length arguments "
   ]
  },
  {
   "cell_type": "code",
   "execution_count": null,
   "id": "dda0d202",
   "metadata": {},
   "outputs": [],
   "source": []
  },
  {
   "cell_type": "code",
   "execution_count": 31,
   "id": "d4736c24",
   "metadata": {},
   "outputs": [
    {
     "name": "stdout",
     "output_type": "stream",
     "text": [
      "--------------------------------------------------\n",
      "\tMul Table for :5\n",
      "--------------------------------------------------\n",
      "\t5 x 1 = 5\n",
      "\t5 x 2 = 10\n",
      "\t5 x 3 = 15\n",
      "\t5 x 4 = 20\n",
      "\t5 x 5 = 25\n",
      "\t5 x 6 = 30\n",
      "\t5 x 7 = 35\n",
      "\t5 x 8 = 40\n",
      "\t5 x 9 = 45\n",
      "\t5 x 10 = 50\n",
      "--------------------------------------------------\n"
     ]
    }
   ],
   "source": [
    "#Program for geenrating Mul table for a given Number by using functions\n",
    "#MultableFunEx1.py\n",
    "def  multable(n):\n",
    "    if(n<=0):\n",
    "        print(\"{} is Invalid Input\".format(n))\n",
    "    else:\n",
    "        print(\"-\"*50)\n",
    "        print(\"\\tMul Table for :{}\".format(n))\n",
    "        print(\"-\"*50)\n",
    "        for i in range(1,11):\n",
    "            print(\"\\t{} x {} = {}\".format(n,i,n*i))\n",
    "        print(\"-\" * 50)\n",
    "#Main Program\n",
    "multable(int(input(\"Enter a Number for generating Mul table:\"))) # Function Call\n"
   ]
  },
  {
   "cell_type": "markdown",
   "id": "eed051f5",
   "metadata": {},
   "source": [
    "🧠 Problem Statement:\n",
    "Design a function called create_invoice for a billing system. The function should:\n",
    "\n",
    "Take customer ID and name as required positional arguments\n",
    "\n",
    "Accept optional defaults like discount=0 and tax_rate=0.18\n",
    "\n",
    "Accept any number of purchased item prices (variable-length positional args)\n",
    "\n",
    "Require mandatory keyword-only argument payment_mode (e.g., \"Card\", \"UPI\", \"Cash\")\n",
    "\n",
    "Accept any number of extra keyword arguments like address, phone, email, etc."
   ]
  },
  {
   "cell_type": "code",
   "execution_count": null,
   "id": "b1dce8d6",
   "metadata": {},
   "outputs": [
    {
     "name": "stdout",
     "output_type": "stream",
     "text": [
      "\n",
      "🧾 Invoice for Madhu (ID: 101)\n",
      "Items total: ₹1700.00\n",
      "Discount: ₹100.00\n",
      "Tax (5%): ₹80.00\n",
      "Final Price: ₹1680.00\n",
      "Payment Mode: UPI\n",
      "Customer Info: {'address': 'Hyderabad', 'phone': '1234567890', 'email': 'madhu@example.com'}\n"
     ]
    }
   ],
   "source": [
    "#example of a Function demonstarting all the types of arguments \n",
    "def create_invoice(id, name, discount= 0, tax_rate = 0.18, *items_price, payment_mode, **customer_info):\n",
    "    total = sum(items_price)\n",
    "    print(f\"\\n🧾 Invoice for {name} (ID: {id})\")\n",
    "    print(f\"Items total: ₹{total:.2f}\")\n",
    "    \n",
    "    total_after_discount = total - discount\n",
    "    print(f\"Discount: ₹{discount:.2f}\")\n",
    "    \n",
    "    tax = total_after_discount * tax_rate\n",
    "    print(f\"Tax ({tax_rate*100:.0f}%): ₹{tax:.2f}\")\n",
    "    \n",
    "    final_price = total_after_discount + tax\n",
    "    print(f\"Final Price: ₹{final_price:.2f}\")\n",
    "    \n",
    "    print(f\"Payment Mode: {payment_mode}\")\n",
    "    print(f\"Customer Info: {customer_info}\")\n",
    "\n",
    "\n",
    "create_invoice(\n",
    "    101, \"Madhu\",\n",
    "    100, 0.05,        # discount, tax_rate\n",
    "    500, 1000, 200,   # item prices (*args)\n",
    "    payment_mode=\"UPI\",\n",
    "    address=\"Hyderabad\", phone=\"1234567890\", email=\"madhu@example.com\"\n",
    ")\n"
   ]
  },
  {
   "cell_type": "code",
   "execution_count": null,
   "id": "cd73f293",
   "metadata": {},
   "outputs": [],
   "source": []
  },
  {
   "cell_type": "code",
   "execution_count": null,
   "id": "a54c259c",
   "metadata": {},
   "outputs": [],
   "source": []
  }
 ],
 "metadata": {
  "kernelspec": {
   "display_name": "venv",
   "language": "python",
   "name": "python3"
  },
  "language_info": {
   "codemirror_mode": {
    "name": "ipython",
    "version": 3
   },
   "file_extension": ".py",
   "mimetype": "text/x-python",
   "name": "python",
   "nbconvert_exporter": "python",
   "pygments_lexer": "ipython3",
   "version": "3.11.10"
  }
 },
 "nbformat": 4,
 "nbformat_minor": 5
}
