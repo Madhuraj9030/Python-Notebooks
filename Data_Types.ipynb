{
 "cells": [
  {
   "cell_type": "markdown",
   "metadata": {},
   "source": [
    "In python there are 14 different data types which are defined below under their functionalities"
   ]
  },
  {
   "cell_type": "markdown",
   "metadata": {},
   "source": [
    "<h5>Sequences </h5>\n",
    "    <ol> \n",
    "        <li>List</li>\n",
    "        <li>Tuple</li>\n",
    "        <li>String</li>\n",
    "        <li>range</li>\n",
    "        <li>bytes\n",
    "        <li>bytes array\n",
    "    </ol>\n",
    "    "
   ]
  },
  {
   "cell_type": "markdown",
   "metadata": {},
   "source": [
    "<h5>Scalar Data Types </h5>\n",
    "    <ol> \n",
    "        <li>Int</li>\n",
    "        <li>bool</li>\n",
    "        <li>complex</li>\n",
    "        <li>Float</li>\n",
    "        <li>None</li>\n",
    "    </ol>"
   ]
  },
  {
   "cell_type": "markdown",
   "metadata": {},
   "source": [
    "<h5>Mappings</h5>\n",
    "\n",
    "<ol>\n",
    "    <li>dictionary"
   ]
  },
  {
   "cell_type": "markdown",
   "metadata": {},
   "source": [
    "<h5>Sets</h5>\n",
    "<ol> \n",
    "<li> set\n",
    "<li> frozenset"
   ]
  },
  {
   "cell_type": "markdown",
   "metadata": {},
   "source": [
    "<h5>Mutable </h5><p>whose content can be changed at same address. i.e; you can mutate it</p>\n",
    "\n",
    "Mutable Data types:\n",
    "<ol> \n",
    "<li>List</li>\n",
    "<li>set</li>\n",
    "<li>Dictionary</li>\n",
    "<li>bytearray</li>\n",
    "</ol>\n"
   ]
  },
  {
   "cell_type": "markdown",
   "metadata": {},
   "source": [
    "<h5>Immutable</h5>\n",
    "whose content cannot be changed after creation. i.e; it is locked\n",
    "<ol>\n",
    "<li>int</li>\n",
    "<li>string</li>\n",
    "<li>float</li>\n",
    "<li>range</li>\n",
    "<li>bool</li>\n",
    "<li>complex</li>\n",
    "<li>None</li>\n",
    "<li>bytes</li>\n",
    "<li>frozenset</li>\n",
    "<li>tuple</li>\n",
    "</ol>"
   ]
  },
  {
   "cell_type": "markdown",
   "metadata": {},
   "source": []
  }
 ],
 "metadata": {
  "language_info": {
   "name": "python"
  }
 },
 "nbformat": 4,
 "nbformat_minor": 2
}
