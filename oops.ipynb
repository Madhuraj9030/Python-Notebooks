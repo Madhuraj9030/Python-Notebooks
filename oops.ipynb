{
 "cells": [
  {
   "cell_type": "markdown",
   "metadata": {},
   "source": [
    "Syntax  of crearting a class"
   ]
  },
  {
   "cell_type": "markdown",
   "metadata": {},
   "source": [
    "class <class_name>:\n",
    "    class level data members\n",
    "    def instance_method_name(self, list of params):\n",
    "        block of statements -> Performs Specific Operations\n",
    "        instance data members\n",
    "    @classmethod\n",
    "    def class_level_method_name(cls, list of params):\n",
    "        block of stmts -> Performs Common Operations\n",
    "        specify class level data members\n",
    "    @staticmethod\n",
    "    def static_method_name(list of params):\n",
    "        block of stmts\n",
    "    def __init__(self, list of params ):\n",
    "        block of stmts -> Performs Initlization\n",
    "    def __del__(self):\n",
    "        block of stmts -> de allocation of memeory space\n",
    "        garbage collector "
   ]
  },
  {
   "cell_type": "markdown",
   "metadata": {},
   "source": [
    "Things that are present inside a class:\n",
    "    \n",
    "    1. Variables\n",
    "        a.instance variables\n",
    "        b.class level variables\n",
    "    2. Methods\n",
    "        a.class method\n",
    "        b.instance method\n",
    "        c.static method\n",
    "    3. Constructor\n",
    "        a.Default constructor\n",
    "        b.parametrised constructor\n",
    "    4. Destructor\n",
    "        a.Garbage collector\n",
    "        "
   ]
  },
  {
   "cell_type": "markdown",
   "metadata": {},
   "source": [
    "#Instance variables"
   ]
  },
  {
   "cell_type": "code",
   "execution_count": 35,
   "metadata": {},
   "outputs": [
    {
     "name": "stdout",
     "output_type": "stream",
     "text": [
      "4444125712\n",
      "4444186640\n",
      "---------\n",
      "4444125712\n",
      "20\n",
      "madhu\n",
      "34\n",
      "---------\n",
      "4444186640\n",
      "21\n",
      "Raj\n",
      "35\n"
     ]
    }
   ],
   "source": [
    "class student:\n",
    "    pass\n",
    "\n",
    "\n",
    "#main program\n",
    "s1 = student()\n",
    "s2 = student()\n",
    "\n",
    "print(id(s1))\n",
    "print(id(s2))\n",
    "print(\"---------\")\n",
    "s1.sno = 20\n",
    "s1.name = \"madhu\"\n",
    "s1.marks = 34\n",
    "print(id(s1))\n",
    "print(s1.sno)\n",
    "print(s1.name)\n",
    "print(s1.marks)\n",
    "print(\"---------\")\n",
    "s2.sno = 21\n",
    "s2.name = \"Raj\"\n",
    "s2.marks = 35\n",
    "print(id(s2))\n",
    "print(s2.sno)\n",
    "print(s2.name)\n",
    "print(s2.marks)\n"
   ]
  },
  {
   "cell_type": "code",
   "execution_count": 36,
   "metadata": {},
   "outputs": [
    {
     "name": "stdout",
     "output_type": "stream",
     "text": [
      "content of s1 3\n",
      "content of s2 3\n"
     ]
    }
   ],
   "source": [
    "print(\"content of s1\", len(s1.__dict__))\n",
    "print(\"content of s2\", len(s2.__dict__))"
   ]
  },
  {
   "cell_type": "code",
   "execution_count": 37,
   "metadata": {},
   "outputs": [
    {
     "name": "stdout",
     "output_type": "stream",
     "text": [
      " s1.sno --> 20\n",
      " s1.name --> madhu\n",
      " s1.marks --> 34\n",
      " s2.sno --> 21\n",
      " s2.name --> Raj\n",
      " s2.marks --> 35\n"
     ]
    }
   ],
   "source": [
    "for name, values in s1.__dict__.items():\n",
    "    print(f' s1.{name} --> {values}')\n",
    "for name, values in s2.__dict__.items():\n",
    "    print(f' s2.{name} --> {values}')\n",
    "\n"
   ]
  },
  {
   "cell_type": "code",
   "execution_count": 38,
   "metadata": {},
   "outputs": [
    {
     "name": "stdout",
     "output_type": "stream",
     "text": [
      " s3.sno --> 29\n",
      " s3.sname --> hoshiro\n",
      " s3.marks --> 30\n"
     ]
    }
   ],
   "source": [
    "s3 = student()\n",
    "s3.__dict__ = {'sno': 29, 'sname':\"hoshiro\", 'marks':30}\n",
    "for name, values in s3.__dict__.items():\n",
    "    print(f' s3.{name} --> {values}')"
   ]
  },
  {
   "cell_type": "markdown",
   "metadata": {},
   "source": [
    "#2. Methods"
   ]
  },
  {
   "cell_type": "code",
   "execution_count": 53,
   "metadata": {},
   "outputs": [
    {
     "name": "stdout",
     "output_type": "stream",
     "text": [
      "Nagarro\n",
      "Hyderabad\n",
      "0\n"
     ]
    }
   ],
   "source": [
    "class Employee:\n",
    "    def instance_method(self):\n",
    "        self.name=None\n",
    "        self.no = None\n",
    "    @classmethod\n",
    "    def class_level_method(cls):\n",
    "        cls.company_name = \"Nagarro\"\n",
    "        cls.com_location = \"Hyderabad\"\n",
    "    @staticmethod\n",
    "    def static_method():\n",
    "\n",
    "        # pass\n",
    "        pass\n",
    "e1 = Employee()\n",
    "Employee.class_level_method()\n",
    "print(e1.company_name)\n",
    "print(e1.com_location)\n",
    "print(len(e1.__dict__))\n",
    "for i ,j in e1.__dict__.items():\n",
    "    print(i,j)\n"
   ]
  },
  {
   "cell_type": "code",
   "execution_count": null,
   "metadata": {},
   "outputs": [
    {
     "name": "stdout",
     "output_type": "stream",
     "text": [
      "instance method- student_details\n",
      "student details \n",
      "              Name:madhu \n",
      "              Marks:50\n",
      "courses_details of student \n",
      "              course: python \n",
      "              college: Jntuk\n",
      "class method - courses\n",
      "None\n",
      "courses_details of student \n",
      "              course: python \n",
      "              college: Jntuk\n",
      "class method - courses\n",
      "instance method- student_details\n"
     ]
    }
   ],
   "source": [
    "\n",
    "#accessing instance method self, objectname\n",
    "#accesing class method wrt self, cls, objectname, classname\n",
    "class student:\n",
    "    course = \"python\" #class variable \n",
    "    college =\"Jntuk\" #class variable \n",
    "    # college=\"NIT Goa\"\n",
    "    def student_details(self, name, marks):\n",
    "        self.name = name #instance variables\n",
    "        self.marks = marks #instance variables\n",
    "        print(\"instance method- student_details\")\n",
    "    @classmethod\n",
    "    def courses(cls):\n",
    "        print(f'''courses_details of student \n",
    "              course: {cls.course} \n",
    "              college: {cls.college}''')# accessing class method wrto cls\n",
    "        print('class method - courses')\n",
    "    def print_student(self):\n",
    "        print(f'''student details \n",
    "              Name:{self.name} \n",
    "              Marks:{self.marks}''')#accessing instance method with respect to self(instace -> self )\n",
    "        print(self.courses()) #accesing class method wrto self\n",
    "    \n",
    "    \n",
    "\n",
    "s= student()\n",
    "s.student_details(\"madhu\", 50)\n",
    "s.print_student()\n",
    "s.courses()# accessing class method wrt objectname\n",
    "s.student_details(\"manoj\", 40) #accessed instance method wrt objectname \n",
    "\n",
    "\n",
    "\n",
    "\n",
    "\n"
   ]
  },
  {
   "cell_type": "code",
   "execution_count": null,
   "metadata": {},
   "outputs": [
    {
     "name": "stdout",
     "output_type": "stream",
     "text": [
      "{'sname': 'Madhu', 'mark': 40}\n"
     ]
    }
   ],
   "source": [
    "\n",
    "class student1:\n",
    "    def __init__(self) -> None:\n",
    "        self.sname = \"Madhu\"\n",
    "        self.mark= 40\n",
    "s1 = student1()\n",
    "print(s1.__dict_)"
   ]
  },
  {
   "cell_type": "code",
   "execution_count": 129,
   "metadata": {},
   "outputs": [
    {
     "name": "stdout",
     "output_type": "stream",
     "text": [
      "iam a param constructor\n",
      "Iam a destructor cals __del__() for deallocating \n",
      "iam a param constructor\n",
      "Iam a destructor cals __del__() for deallocating \n"
     ]
    }
   ],
   "source": [
    "import time\n",
    "class employee:\n",
    "    def __init__(self, eno, ename):\n",
    "        print(\"iam a param constructor\")\n",
    "        eno = eno\n",
    "        ename = ename\n",
    "    def __del__(self):\n",
    "        print(\"Iam a destructor cals __del__() for deallocating \")\n",
    "e1 = employee(1, \"a\")\n",
    "time.sleep(1)\n",
    "e2 = employee(2, \"b\")\n",
    "\n"
   ]
  },
  {
   "cell_type": "code",
   "execution_count": 132,
   "metadata": {},
   "outputs": [
    {
     "name": "stdout",
     "output_type": "stream",
     "text": [
      "Program Execution Started\n",
      "\tI am from Parameterized  Constructor whose id=4443211152\n",
      "\t10\tRS\n",
      "\tGC calls __del__() for De-allocating the memory space of :4442565392\n",
      "\tNow Available Memory Space=112\n",
      "\tI am from Parameterized  Constructor whose id=4441216336\n",
      "\t20\tTR\n",
      "\tGC calls __del__() for De-allocating the memory space of :4441277648\n",
      "\tNow Available Memory Space=56\n",
      "\tI am from Parameterized  Constructor whose id=4441277648\n",
      "\t30\tMC\n",
      "\tGC calls __del__() for De-allocating the memory space of :4435238736\n",
      "\tNow Available Memory Space=0\n",
      "Total Memory Space of all objects= 168\n",
      "Program Execution Ended\n"
     ]
    }
   ],
   "source": [
    "import time,sys\n",
    "class Employee:\n",
    "\tdef __init__(self,eno,name):\n",
    "\t\tprint(\"\\tI am from Parameterized  Constructor whose id={}\".format(id(self)))\n",
    "\t\tself.eno=eno\n",
    "\t\tself.name=name\n",
    "\t\tprint(\"\\t{}\\t{}\".format(self.eno,self.name))\n",
    "\t\n",
    "\tdef __del__(self):\n",
    "\t\tglobal totmemspace\n",
    "\t\tprint(\"\\tGC calls __del__() for De-allocating the memory space of :{}\".format(id(self)))\n",
    "\t\ttotmemspace=totmemspace-sys.getsizeof(self)\n",
    "\t\tprint(\"\\tNow Available Memory Space={}\".format(totmemspace))\n",
    "\n",
    "#Main Program\n",
    "print(\"Program Execution Started\")\n",
    "eo1=Employee(10,\"RS\") # Object Creation--Makes the PVM to call Parameterized Constructor\n",
    "eo2=Employee(20,\"TR\") # Object Creation--Makes the PVM to call Parameterized Constructor\n",
    "eo3=Employee(30,\"MC\") # Object Creation--Makes the PVM to call Parameterized Constructor\n",
    "totmemspace=sys.getsizeof(eo1)+sys.getsizeof(eo2)+sys.getsizeof(eo3)\n",
    "print(\"Total Memory Space of all objects=\",totmemspace)\n",
    "print(\"Program Execution Ended\")\n",
    "\n",
    "time.sleep(10)\n",
    "# Here all the objects memory space destroyed by Destructor by runnung Garbage Collector automatically at th end of Program execution. This kind of Garbage Collection is called Automatic garbage Collection."
   ]
  },
  {
   "cell_type": "code",
   "execution_count": 151,
   "metadata": {},
   "outputs": [
    {
     "name": "stdout",
     "output_type": "stream",
     "text": [
      "{'brand': 'volvo', 'fuel': 'diesel', 'distance': 40}\n",
      "testing.... \n",
      "{'brand': 'tata', 'fuel': 'electric', 'distance': 90}\n",
      "testing.... \n"
     ]
    }
   ],
   "source": [
    "class car:\n",
    "    def __init__(self, brand:str, fuel:str)->None:\n",
    "        self.brand = brand\n",
    "        self.fuel= fuel\n",
    "    def distance(self, distance):\n",
    "        self.distance = distance\n",
    "    @staticmethod\n",
    "    def test():\n",
    "        print(\"testing.... \")\n",
    "#volvo car: where self points to volvo here in this instance of class \n",
    "volvo:car = car(\"volvo\", \"diesel\")\n",
    "volvo.distance(40)\n",
    "print(volvo.__dict__)\n",
    "\n",
    "volvo.test()\n",
    "\n",
    "tata:car = car('tata', \"electric\",)\n",
    "tata.distance(90)\n",
    "print(tata.__dict__)\n",
    "tata.test()"
   ]
  },
  {
   "cell_type": "markdown",
   "metadata": {},
   "source": [
    "#Access Modifiers"
   ]
  },
  {
   "cell_type": "markdown",
   "metadata": {},
   "source": [
    "Defines the accessibility of members of a class\n",
    "1. private - private access modifiers can be accessed by members within the class and cannot accessible outside of class(__)\n",
    "2. public - these modifiers doesn't prefix with any underscores\n",
    "3. Protected - Protected modifiers are prefix with _ underscore, and these can be accessed within the class and in inherited class but cannot accesible outside the class\n"
   ]
  },
  {
   "cell_type": "code",
   "execution_count": 154,
   "metadata": {},
   "outputs": [
    {
     "name": "stdout",
     "output_type": "stream",
     "text": [
      "iam public method and can be accessible \n"
     ]
    },
    {
     "ename": "AttributeError",
     "evalue": "'A' object has no attribute '__m2'",
     "output_type": "error",
     "traceback": [
      "\u001b[0;31m---------------------------------------------------------------------------\u001b[0m",
      "\u001b[0;31mAttributeError\u001b[0m                            Traceback (most recent call last)",
      "Cell \u001b[0;32mIn[154], line 9\u001b[0m\n\u001b[1;32m      7\u001b[0m ob \u001b[38;5;241m=\u001b[39m A()\n\u001b[1;32m      8\u001b[0m ob\u001b[38;5;241m.\u001b[39mm1()\n\u001b[0;32m----> 9\u001b[0m \u001b[43mob\u001b[49m\u001b[38;5;241;43m.\u001b[39;49m\u001b[43m__m2\u001b[49m()\n",
      "\u001b[0;31mAttributeError\u001b[0m: 'A' object has no attribute '__m2'"
     ]
    }
   ],
   "source": [
    "#private access modifiers\n",
    "class A:\n",
    "    def m1(self): #instace method which is public\n",
    "        print(\"iam public method and can be accessible \")\n",
    "    def __m2(self): #private instance method \n",
    "        print(\"iam private instance method \")\n",
    "ob = A()\n",
    "ob.m1()\n",
    "ob.__m2()"
   ]
  },
  {
   "cell_type": "code",
   "execution_count": 155,
   "metadata": {},
   "outputs": [
    {
     "name": "stdout",
     "output_type": "stream",
     "text": [
      "the value inside the list is 20\n"
     ]
    }
   ],
   "source": [
    "class List:\n",
    "    def __init__(self):\n",
    "        self.__data = None\n",
    "    def append(self, value):\n",
    "        self.__data = value\n",
    "    def get(self):\n",
    "        return self.__data\n",
    "l= List()\n",
    "l.append(20)\n",
    "print(f\"the value inside the list is {l.get()}\")"
   ]
  },
  {
   "cell_type": "code",
   "execution_count": 164,
   "metadata": {},
   "outputs": [
    {
     "name": "stdout",
     "output_type": "stream",
     "text": [
      "\n",
      "acno: 123456\n",
      "name: Madhu\n",
      "balance: 70000\n",
      "                \n",
      "balance: 50000\n",
      "the amount after deposited 60000\n"
     ]
    }
   ],
   "source": [
    "#private access modifier in banking application \n",
    "class customer:\n",
    "    def __init__(self):\n",
    "        self.__ano = None\n",
    "        self.__name = None\n",
    "        self.__balance =None\n",
    "    def credentials(self, a,b, c):\n",
    "        self.__ano = a  \n",
    "        self.__name = b\n",
    "        self.__balance =c\n",
    "    def get_details(self):\n",
    "        print(f'''\n",
    "acno: {self.__ano}\n",
    "name: {self.__name}\n",
    "balance: { self.__balance}\n",
    "                ''')\n",
    "    def withdraw(self, w):\n",
    "        if self.__balance<w :\n",
    "            print(f\"less balance {self.__balance}\")\n",
    "        else:\n",
    "            self.__balance = self.__balance-w\n",
    "            print(f\"balance: {self.__balance}\")\n",
    "    def deposit(self,w):\n",
    "        self.__balance= self.__balance+w\n",
    "        print(f\"the amount after deposited {self.__balance}\")\n",
    "c= customer()\n",
    "c.credentials(123456, \"Madhu\", 70000)\n",
    "c.get_details()\n",
    "c.withdraw(20000)\n",
    "c.deposit(10000)\n"
   ]
  },
  {
   "cell_type": "markdown",
   "metadata": {},
   "source": [
    "#Inheritance"
   ]
  },
  {
   "cell_type": "markdown",
   "metadata": {},
   "source": [
    "Parent or base or super class\n",
    "child or sub or derived class\n",
    "\n",
    "1. single inheritance: this inheritance contains single base and derived class\n",
    "2. multilevel inheritance : this inheritance contains single base and single derived and single intermediate base class\n",
    "3. Multiple inheritance : this inheritance contains Multiple base class or parent classes and single derived class \n",
    "4. Herirachial inheritance : this inheritance contains Multiple derived classes and one single parent class \n",
    "5. Hybrid inheritance : the comnbination of any two or more above mentioned inheritances is hybrid inheritance \n"
   ]
  },
  {
   "cell_type": "code",
   "execution_count": 18,
   "metadata": {},
   "outputs": [
    {
     "name": "stdout",
     "output_type": "stream",
     "text": [
      "iam instance method A\n",
      "im class method \n",
      "im static method\n",
      "im normal method\n",
      "************************\n",
      "iam instance method A\n",
      "im normal method\n",
      "im class method \n",
      "im static method\n"
     ]
    }
   ],
   "source": [
    "# single inheritance \n",
    "class A:\n",
    "    def __init__(self):\n",
    "        print(\"iam instance method A\")\n",
    "    @classmethod\n",
    "    def class_method(cls):\n",
    "        print(\"im class method \")\n",
    "    @staticmethod\n",
    "    def static_method():\n",
    "        print(\"im static method\")\n",
    "\n",
    "    def m1(self):\n",
    "        print('im normal method')\n",
    "\n",
    "\n",
    "\n",
    "class B(A):\n",
    "    # def __init__ (self):\n",
    "    #     print(\"iam instance method of B\")\n",
    "    def m2(self):\n",
    "        print(\"im medhod of b\")\n",
    "    \n",
    "a = A()\n",
    "a.class_method()\n",
    "a.static_method()\n",
    "a.m1()\n",
    "print(\"*\" *24)\n",
    "b = B()\n",
    "b.m1()\n",
    "b.class_method()\n",
    "b.static_method()\n",
    "\n",
    "    "
   ]
  },
  {
   "cell_type": "code",
   "execution_count": 25,
   "metadata": {},
   "outputs": [
    {
     "name": "stdout",
     "output_type": "stream",
     "text": [
      "iam instance method A\n",
      "im class method \n",
      "im static method\n",
      "im method of a\n",
      "************************\n",
      "iam instance method A\n",
      "im method of a\n",
      "im class method \n",
      "im static method\n",
      "************************\n",
      "iam instance method A\n",
      "im method of c\n",
      "im medhod of b\n",
      "im method of a\n",
      "im class method \n",
      "im static method\n"
     ]
    }
   ],
   "source": [
    "#Multilevel inheritance \n",
    "class A:\n",
    "    def __init__(self):\n",
    "        print(\"iam instance method A\")\n",
    "    @classmethod\n",
    "    def class_method(cls):\n",
    "        print(\"im class method \")\n",
    "    @staticmethod\n",
    "    def static_method():\n",
    "        print(\"im static method\")\n",
    "\n",
    "    def m1(self):\n",
    "        print('im method of a')\n",
    "\n",
    "\n",
    "\n",
    "class B(A):\n",
    "    # def __init__ (self):\n",
    "    #     print(\"iam instance method of B\")\n",
    "    def m2(self):\n",
    "        print(\"im medhod of b\")\n",
    "\n",
    "class C(B):\n",
    "    def m3(self):\n",
    "        print(\"im method of c\")\n",
    "a = A()\n",
    "a.class_method()\n",
    "a.static_method()\n",
    "a.m1()\n",
    "print(\"*\" *24)\n",
    "b = B()\n",
    "b.m1()\n",
    "b.class_method()\n",
    "b.static_method()\n",
    "print(\"*\" *24)\n",
    "c = C()\n",
    "c.m3()\n",
    "c.m2()\n",
    "c.m1()\n",
    "c.class_method()\n",
    "c.static_method()"
   ]
  },
  {
   "cell_type": "code",
   "execution_count": 32,
   "metadata": {},
   "outputs": [
    {
     "name": "stdout",
     "output_type": "stream",
     "text": [
      "iam instance method A\n",
      "im method of class d\n",
      "\n",
      "************************\n",
      "im class method \n",
      "im static method\n",
      "im method of a\n",
      "\n",
      "************************\n",
      "im method of class b\n",
      "\n",
      "************************\n",
      "im method of class c\n"
     ]
    }
   ],
   "source": [
    "#multiple inheritance \n",
    "class A:\n",
    "    def __init__(self):\n",
    "        print(\"iam instance method A\")\n",
    "    @classmethod\n",
    "    def class_method(cls):\n",
    "        print(\"im class method \")\n",
    "    @staticmethod\n",
    "    def static_method():\n",
    "        print(\"im static method\")\n",
    "\n",
    "    def m1(self):\n",
    "        print('im method of a')\n",
    "class B:\n",
    "    def m2(self):\n",
    "        print(\"im method of class b\")\n",
    "class C:\n",
    "    def m3(self):\n",
    "        print(\"im method of class c\")\n",
    "class D(A, B, C):\n",
    "    def m4(self):\n",
    "        print(\"im method of class d\")\n",
    "\n",
    "d = D()\n",
    "d.m4()\n",
    "print()\n",
    "print('*'*24)\n",
    "d.class_method()\n",
    "d.static_method()\n",
    "d.m1()\n",
    "print()\n",
    "print('*'*24)\n",
    "d.m2()\n",
    "print()\n",
    "print('*'*24)\n",
    "d.m3()\n"
   ]
  },
  {
   "cell_type": "code",
   "execution_count": 33,
   "metadata": {},
   "outputs": [
    {
     "name": "stdout",
     "output_type": "stream",
     "text": [
      "instance method of A\n",
      "m1 method of class a\n",
      "************************\n",
      "instance method of A\n",
      "m2 method of class B\n",
      "************************\n",
      "instance method of A\n",
      "m3 method of class C\n",
      "************************\n",
      "instance method of A\n",
      "m4 method of class D\n",
      "************************\n"
     ]
    }
   ],
   "source": [
    "#heirarchial inheritance \n",
    "class A:\n",
    "    def __init__(self):\n",
    "        print(\"instance method of A\")\n",
    "    def m1(self):\n",
    "        print(\"m1 method of class a\")\n",
    "class B(A):\n",
    "    def m2(self):\n",
    "        print(\"m2 method of class B\")\n",
    "class C(A):\n",
    "    def m3(self):\n",
    "        print(\"m3 method of class C\")\n",
    "class D(A):\n",
    "    def m4(self):\n",
    "        print(\"m4 method of class D\")\n",
    "def main():\n",
    "    a = A()\n",
    "    a.m1()\n",
    "    print(\"*\"*24)\n",
    "    b = B()\n",
    "    b.m2()\n",
    "    print(\"*\"*24)\n",
    "    c = C()\n",
    "    c.m3()\n",
    "    print(\"*\"*24)\n",
    "    d = D()\n",
    "    d.m4()\n",
    "    print(\"*\"*24)\n",
    "if __name__ ==\"__main__\":\n",
    "    main()\n"
   ]
  },
  {
   "cell_type": "code",
   "execution_count": null,
   "metadata": {},
   "outputs": [],
   "source": []
  }
 ],
 "metadata": {
  "kernelspec": {
   "display_name": "venv",
   "language": "python",
   "name": "python3"
  },
  "language_info": {
   "codemirror_mode": {
    "name": "ipython",
    "version": 3
   },
   "file_extension": ".py",
   "mimetype": "text/x-python",
   "name": "python",
   "nbconvert_exporter": "python",
   "pygments_lexer": "ipython3",
   "version": "3.11.10"
  }
 },
 "nbformat": 4,
 "nbformat_minor": 2
}
