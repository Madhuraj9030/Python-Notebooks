{
 "cells": [
  {
   "cell_type": "markdown",
   "metadata": {},
   "source": [
    "Syntax  of crearting a class"
   ]
  },
  {
   "cell_type": "markdown",
   "metadata": {},
   "source": [
    "class <class_name>:\n",
    "    class level data members\n",
    "    def instance_method_name(self, list of params):\n",
    "        block of statements -> Performs Specific Operations\n",
    "        instance data members\n",
    "    @classmethod\n",
    "    def class_level_method_name(cls, list of params):\n",
    "        block of stmts -> Performs Common Operations\n",
    "        specify class level data members\n",
    "    @staticmethod\n",
    "    def static_method_name(list of params):\n",
    "        block of stmts\n",
    "    def __init__(self, list of params ):\n",
    "        block of stmts -> Performs Initlization\n",
    "    def __del__(self):\n",
    "        block of stmts -> de allocation of memeory space\n",
    "        garbage collector "
   ]
  },
  {
   "cell_type": "markdown",
   "metadata": {},
   "source": [
    "Things that are present inside a class:\n",
    "    \n",
    "    1. Variables\n",
    "        a.instance variables\n",
    "        b.class level variables\n",
    "    2. Methods\n",
    "        a.class method\n",
    "        b.instance method\n",
    "        c.static method\n",
    "    3. Constructor\n",
    "        a.Default constructor\n",
    "        b.parametrised constructor\n",
    "    4. Destructor\n",
    "        a.Garbage collector\n",
    "        "
   ]
  },
  {
   "cell_type": "markdown",
   "metadata": {},
   "source": [
    "#Instance variables"
   ]
  },
  {
   "cell_type": "code",
   "execution_count": 35,
   "metadata": {},
   "outputs": [
    {
     "name": "stdout",
     "output_type": "stream",
     "text": [
      "4444125712\n",
      "4444186640\n",
      "---------\n",
      "4444125712\n",
      "20\n",
      "madhu\n",
      "34\n",
      "---------\n",
      "4444186640\n",
      "21\n",
      "Raj\n",
      "35\n"
     ]
    }
   ],
   "source": [
    "class student:\n",
    "    pass\n",
    "\n",
    "\n",
    "#main program\n",
    "s1 = student()\n",
    "s2 = student()\n",
    "\n",
    "print(id(s1))\n",
    "print(id(s2))\n",
    "print(\"---------\")\n",
    "s1.sno = 20\n",
    "s1.name = \"madhu\"\n",
    "s1.marks = 34\n",
    "print(id(s1))\n",
    "print(s1.sno)\n",
    "print(s1.name)\n",
    "print(s1.marks)\n",
    "print(\"---------\")\n",
    "s2.sno = 21\n",
    "s2.name = \"Raj\"\n",
    "s2.marks = 35\n",
    "print(id(s2))\n",
    "print(s2.sno)\n",
    "print(s2.name)\n",
    "print(s2.marks)\n"
   ]
  },
  {
   "cell_type": "code",
   "execution_count": 36,
   "metadata": {},
   "outputs": [
    {
     "name": "stdout",
     "output_type": "stream",
     "text": [
      "content of s1 3\n",
      "content of s2 3\n"
     ]
    }
   ],
   "source": [
    "print(\"content of s1\", len(s1.__dict__))\n",
    "print(\"content of s2\", len(s2.__dict__))"
   ]
  },
  {
   "cell_type": "code",
   "execution_count": 37,
   "metadata": {},
   "outputs": [
    {
     "name": "stdout",
     "output_type": "stream",
     "text": [
      " s1.sno --> 20\n",
      " s1.name --> madhu\n",
      " s1.marks --> 34\n",
      " s2.sno --> 21\n",
      " s2.name --> Raj\n",
      " s2.marks --> 35\n"
     ]
    }
   ],
   "source": [
    "for name, values in s1.__dict__.items():\n",
    "    print(f' s1.{name} --> {values}')\n",
    "for name, values in s2.__dict__.items():\n",
    "    print(f' s2.{name} --> {values}')\n",
    "\n"
   ]
  },
  {
   "cell_type": "code",
   "execution_count": 38,
   "metadata": {},
   "outputs": [
    {
     "name": "stdout",
     "output_type": "stream",
     "text": [
      " s3.sno --> 29\n",
      " s3.sname --> hoshiro\n",
      " s3.marks --> 30\n"
     ]
    }
   ],
   "source": [
    "s3 = student()\n",
    "s3.__dict__ = {'sno': 29, 'sname':\"hoshiro\", 'marks':30}\n",
    "for name, values in s3.__dict__.items():\n",
    "    print(f' s3.{name} --> {values}')"
   ]
  },
  {
   "cell_type": "markdown",
   "metadata": {},
   "source": [
    "#2. Methods"
   ]
  },
  {
   "cell_type": "code",
   "execution_count": 53,
   "metadata": {},
   "outputs": [
    {
     "name": "stdout",
     "output_type": "stream",
     "text": [
      "Nagarro\n",
      "Hyderabad\n",
      "0\n"
     ]
    }
   ],
   "source": [
    "class Employee:\n",
    "    def instance_method(self):\n",
    "        self.name=None\n",
    "        self.no = None\n",
    "    @classmethod\n",
    "    def class_level_method(cls):\n",
    "        cls.company_name = \"Nagarro\"\n",
    "        cls.com_location = \"Hyderabad\"\n",
    "    @staticmethod\n",
    "    def static_method():\n",
    "\n",
    "        # pass\n",
    "        pass\n",
    "e1 = Employee()\n",
    "Employee.class_level_method()\n",
    "print(e1.company_name)\n",
    "print(e1.com_location)\n",
    "print(len(e1.__dict__))\n",
    "for i ,j in e1.__dict__.items():\n",
    "    print(i,j)\n"
   ]
  },
  {
   "cell_type": "code",
   "execution_count": null,
   "metadata": {},
   "outputs": [
    {
     "name": "stdout",
     "output_type": "stream",
     "text": [
      "instance method- student_details\n",
      "student details \n",
      "              Name:madhu \n",
      "              Marks:50\n",
      "courses_details of student \n",
      "              course: python \n",
      "              college: Jntuk\n",
      "class method - courses\n",
      "None\n",
      "courses_details of student \n",
      "              course: python \n",
      "              college: Jntuk\n",
      "class method - courses\n",
      "instance method- student_details\n"
     ]
    }
   ],
   "source": [
    "\n",
    "#accessing instance method self, objectname\n",
    "#accesing class method wrt self, cls, objectname, classname\n",
    "class student:\n",
    "    course = \"python\" #class variable \n",
    "    college =\"Jntuk\" #class variable \n",
    "    # college=\"NIT Goa\"\n",
    "    def student_details(self, name, marks):\n",
    "        self.name = name #instance variables\n",
    "        self.marks = marks #instance variables\n",
    "        print(\"instance method- student_details\")\n",
    "    @classmethod\n",
    "    def courses(cls):\n",
    "        print(f'''courses_details of student \n",
    "              course: {cls.course} \n",
    "              college: {cls.college}''')# accessing class method wrto cls\n",
    "        print('class method - courses')\n",
    "    def print_student(self):\n",
    "        print(f'''student details \n",
    "              Name:{self.name} \n",
    "              Marks:{self.marks}''')#accessing instance method with respect to self(instace -> self )\n",
    "        print(self.courses()) #accesing class method wrto self\n",
    "    \n",
    "    \n",
    "\n",
    "s= student()\n",
    "s.student_details(\"madhu\", 50)\n",
    "s.print_student()\n",
    "s.courses()# accessing class method wrt objectname\n",
    "s.student_details(\"manoj\", 40) #accessed instance method wrt objectname \n",
    "\n",
    "\n",
    "\n",
    "\n",
    "\n"
   ]
  },
  {
   "cell_type": "code",
   "execution_count": null,
   "metadata": {},
   "outputs": [
    {
     "name": "stdout",
     "output_type": "stream",
     "text": [
      "{'sname': 'Madhu', 'mark': 40}\n"
     ]
    }
   ],
   "source": [
    "\n",
    "class student1:\n",
    "    def __init__(self) -> None:\n",
    "        self.sname = \"Madhu\"\n",
    "        self.mark= 40\n",
    "s1 = student1()\n",
    "print(s1.__dict_)"
   ]
  },
  {
   "cell_type": "code",
   "execution_count": 129,
   "metadata": {},
   "outputs": [
    {
     "name": "stdout",
     "output_type": "stream",
     "text": [
      "iam a param constructor\n",
      "Iam a destructor cals __del__() for deallocating \n",
      "iam a param constructor\n",
      "Iam a destructor cals __del__() for deallocating \n"
     ]
    }
   ],
   "source": [
    "import time\n",
    "class employee:\n",
    "    def __init__(self, eno, ename):\n",
    "        print(\"iam a param constructor\")\n",
    "        eno = eno\n",
    "        ename = ename\n",
    "    def __del__(self):\n",
    "        print(\"Iam a destructor cals __del__() for deallocating \")\n",
    "e1 = employee(1, \"a\")\n",
    "time.sleep(1)\n",
    "e2 = employee(2, \"b\")\n",
    "\n"
   ]
  },
  {
   "cell_type": "code",
   "execution_count": 132,
   "metadata": {},
   "outputs": [
    {
     "name": "stdout",
     "output_type": "stream",
     "text": [
      "Program Execution Started\n",
      "\tI am from Parameterized  Constructor whose id=4443211152\n",
      "\t10\tRS\n",
      "\tGC calls __del__() for De-allocating the memory space of :4442565392\n",
      "\tNow Available Memory Space=112\n",
      "\tI am from Parameterized  Constructor whose id=4441216336\n",
      "\t20\tTR\n",
      "\tGC calls __del__() for De-allocating the memory space of :4441277648\n",
      "\tNow Available Memory Space=56\n",
      "\tI am from Parameterized  Constructor whose id=4441277648\n",
      "\t30\tMC\n",
      "\tGC calls __del__() for De-allocating the memory space of :4435238736\n",
      "\tNow Available Memory Space=0\n",
      "Total Memory Space of all objects= 168\n",
      "Program Execution Ended\n"
     ]
    }
   ],
   "source": [
    "import time,sys\n",
    "class Employee:\n",
    "\tdef __init__(self,eno,name):\n",
    "\t\tprint(\"\\tI am from Parameterized  Constructor whose id={}\".format(id(self)))\n",
    "\t\tself.eno=eno\n",
    "\t\tself.name=name\n",
    "\t\tprint(\"\\t{}\\t{}\".format(self.eno,self.name))\n",
    "\t\n",
    "\tdef __del__(self):\n",
    "\t\tglobal totmemspace\n",
    "\t\tprint(\"\\tGC calls __del__() for De-allocating the memory space of :{}\".format(id(self)))\n",
    "\t\ttotmemspace=totmemspace-sys.getsizeof(self)\n",
    "\t\tprint(\"\\tNow Available Memory Space={}\".format(totmemspace))\n",
    "\n",
    "#Main Program\n",
    "print(\"Program Execution Started\")\n",
    "eo1=Employee(10,\"RS\") # Object Creation--Makes the PVM to call Parameterized Constructor\n",
    "eo2=Employee(20,\"TR\") # Object Creation--Makes the PVM to call Parameterized Constructor\n",
    "eo3=Employee(30,\"MC\") # Object Creation--Makes the PVM to call Parameterized Constructor\n",
    "totmemspace=sys.getsizeof(eo1)+sys.getsizeof(eo2)+sys.getsizeof(eo3)\n",
    "print(\"Total Memory Space of all objects=\",totmemspace)\n",
    "print(\"Program Execution Ended\")\n",
    "\n",
    "time.sleep(10)\n",
    "# Here all the objects memory space destroyed by Destructor by runnung Garbage Collector automatically at th end of Program execution. This kind of Garbage Collection is called Automatic garbage Collection."
   ]
  },
  {
   "cell_type": "code",
   "execution_count": 151,
   "metadata": {},
   "outputs": [
    {
     "name": "stdout",
     "output_type": "stream",
     "text": [
      "{'brand': 'volvo', 'fuel': 'diesel', 'distance': 40}\n",
      "testing.... \n",
      "{'brand': 'tata', 'fuel': 'electric', 'distance': 90}\n",
      "testing.... \n"
     ]
    }
   ],
   "source": [
    "class car:\n",
    "    def __init__(self, brand:str, fuel:str)->None:\n",
    "        self.brand = brand\n",
    "        self.fuel= fuel\n",
    "    def distance(self, distance):\n",
    "        self.distance = distance\n",
    "    @staticmethod\n",
    "    def test():\n",
    "        print(\"testing.... \")\n",
    "#volvo car: where self points to volvo here in this instance of class \n",
    "volvo:car = car(\"volvo\", \"diesel\")\n",
    "volvo.distance(40)\n",
    "print(volvo.__dict__)\n",
    "\n",
    "volvo.test()\n",
    "\n",
    "tata:car = car('tata', \"electric\",)\n",
    "tata.distance(90)\n",
    "print(tata.__dict__)\n",
    "tata.test()"
   ]
  },
  {
   "cell_type": "markdown",
   "metadata": {},
   "source": [
    "#Access Modifiers"
   ]
  },
  {
   "cell_type": "markdown",
   "metadata": {},
   "source": [
    "Defines the accessibility of members of a class\n",
    "1. private - private access modifiers can be accessed by members within the class and cannot accessible outside of class(__)\n",
    "2. public - these modifiers doesn't prefix with any underscores\n",
    "3. Protected - Protected modifiers are prefix with _ underscore, and these can be accessed within the class and in inherited class but cannot accesible outside the class\n"
   ]
  },
  {
   "cell_type": "code",
   "execution_count": 154,
   "metadata": {},
   "outputs": [
    {
     "name": "stdout",
     "output_type": "stream",
     "text": [
      "iam public method and can be accessible \n"
     ]
    },
    {
     "ename": "AttributeError",
     "evalue": "'A' object has no attribute '__m2'",
     "output_type": "error",
     "traceback": [
      "\u001b[0;31m---------------------------------------------------------------------------\u001b[0m",
      "\u001b[0;31mAttributeError\u001b[0m                            Traceback (most recent call last)",
      "Cell \u001b[0;32mIn[154], line 9\u001b[0m\n\u001b[1;32m      7\u001b[0m ob \u001b[38;5;241m=\u001b[39m A()\n\u001b[1;32m      8\u001b[0m ob\u001b[38;5;241m.\u001b[39mm1()\n\u001b[0;32m----> 9\u001b[0m \u001b[43mob\u001b[49m\u001b[38;5;241;43m.\u001b[39;49m\u001b[43m__m2\u001b[49m()\n",
      "\u001b[0;31mAttributeError\u001b[0m: 'A' object has no attribute '__m2'"
     ]
    }
   ],
   "source": [
    "#private access modifiers\n",
    "class A:\n",
    "    def m1(self): #instace method which is public\n",
    "        print(\"iam public method and can be accessible \")\n",
    "    def __m2(self): #private instance method \n",
    "        print(\"iam private instance method \")\n",
    "ob = A()\n",
    "ob.m1()\n",
    "ob.__m2()"
   ]
  },
  {
   "cell_type": "code",
   "execution_count": 155,
   "metadata": {},
   "outputs": [
    {
     "name": "stdout",
     "output_type": "stream",
     "text": [
      "the value inside the list is 20\n"
     ]
    }
   ],
   "source": [
    "class List:\n",
    "    def __init__(self):\n",
    "        self.__data = None\n",
    "    def append(self, value):\n",
    "        self.__data = value\n",
    "    def get(self):\n",
    "        return self.__data\n",
    "l= List()\n",
    "l.append(20)\n",
    "print(f\"the value inside the list is {l.get()}\")"
   ]
  },
  {
   "cell_type": "code",
   "execution_count": 164,
   "metadata": {},
   "outputs": [
    {
     "name": "stdout",
     "output_type": "stream",
     "text": [
      "\n",
      "acno: 123456\n",
      "name: Madhu\n",
      "balance: 70000\n",
      "                \n",
      "balance: 50000\n",
      "the amount after deposited 60000\n"
     ]
    }
   ],
   "source": [
    "#private access modifier in banking application \n",
    "class customer:\n",
    "    def __init__(self):\n",
    "        self.__ano = None\n",
    "        self.__name = None\n",
    "        self.__balance =None\n",
    "    def credentials(self, a,b, c):\n",
    "        self.__ano = a  \n",
    "        self.__name = b\n",
    "        self.__balance =c\n",
    "    def get_details(self):\n",
    "        print(f'''\n",
    "acno: {self.__ano}\n",
    "name: {self.__name}\n",
    "balance: { self.__balance}\n",
    "                ''')\n",
    "    def withdraw(self, w):\n",
    "        if self.__balance<w :\n",
    "            print(f\"less balance {self.__balance}\")\n",
    "        else:\n",
    "            self.__balance = self.__balance-w\n",
    "            print(f\"balance: {self.__balance}\")\n",
    "    def deposit(self,w):\n",
    "        self.__balance= self.__balance+w\n",
    "        print(f\"the amount after deposited {self.__balance}\")\n",
    "c= customer()\n",
    "c.credentials(123456, \"Madhu\", 70000)\n",
    "c.get_details()\n",
    "c.withdraw(20000)\n",
    "c.deposit(10000)\n"
   ]
  },
  {
   "cell_type": "markdown",
   "metadata": {},
   "source": [
    "#Inheritance"
   ]
  },
  {
   "cell_type": "markdown",
   "metadata": {},
   "source": [
    "Parent or base or super class\n",
    "child or sub or derived class\n",
    "\n",
    "1. single inheritance: this inheritance contains single base and derived class\n",
    "2. multilevel inheritance : this inheritance contains single base and single derived and single intermediate base class\n",
    "3. Multiple inheritance : this inheritance contains Multiple base class or parent classes and single derived class \n",
    "4. Herirachial inheritance : this inheritance contains Multiple derived classes and one single parent class \n",
    "5. Hybrid inheritance : the comnbination of any two or more above mentioned inheritances is hybrid inheritance \n"
   ]
  },
  {
   "cell_type": "code",
   "execution_count": 34,
   "metadata": {},
   "outputs": [
    {
     "name": "stdout",
     "output_type": "stream",
     "text": [
      "iam constructor method A\n",
      "im class method \n",
      "im static method\n",
      "im normal method\n",
      "************************\n",
      "iam constructor method A\n",
      "im normal method\n",
      "im class method \n",
      "im static method\n"
     ]
    }
   ],
   "source": [
    "# single inheritance \n",
    "class A:\n",
    "    def __init__(self):\n",
    "        print(\"iam constructor method A\")\n",
    "    @classmethod\n",
    "    def class_method(cls):\n",
    "        print(\"im class method \")\n",
    "    @staticmethod\n",
    "    def static_method():\n",
    "        print(\"im static method\")\n",
    "\n",
    "    def m1(self):\n",
    "        print('im normal method')\n",
    "\n",
    "\n",
    "\n",
    "class B(A):\n",
    "    # def __init__ (self):\n",
    "    #     print(\"iam instance method of B\")\n",
    "    def m2(self):\n",
    "        print(\"im medhod of b\")\n",
    "    \n",
    "a = A()\n",
    "a.class_method()\n",
    "a.static_method()\n",
    "a.m1()\n",
    "print(\"*\" *24)\n",
    "b = B()\n",
    "b.m1()\n",
    "b.class_method()\n",
    "b.static_method()\n",
    "\n",
    "    "
   ]
  },
  {
   "cell_type": "code",
   "execution_count": 35,
   "metadata": {},
   "outputs": [
    {
     "name": "stdout",
     "output_type": "stream",
     "text": [
      "iam Constructor method A\n",
      "im class method \n",
      "im static method\n",
      "im method of a\n",
      "************************\n",
      "iam Constructor method A\n",
      "im method of a\n",
      "im class method \n",
      "im static method\n",
      "************************\n",
      "iam Constructor method A\n",
      "im method of c\n",
      "im method of b\n",
      "im method of a\n",
      "im class method \n",
      "im static method\n"
     ]
    }
   ],
   "source": [
    "#Multilevel inheritance \n",
    "class A:\n",
    "    def __init__(self):\n",
    "        print(\"iam Constructor method A\")\n",
    "    @classmethod\n",
    "    def class_method(cls):\n",
    "        print(\"im class method \")\n",
    "    @staticmethod\n",
    "    def static_method():\n",
    "        print(\"im static method\")\n",
    "\n",
    "    def m1(self):\n",
    "        print('im method of a')\n",
    "\n",
    "\n",
    "\n",
    "class B(A):\n",
    "    # def __init__ (self):\n",
    "    #     print(\"iam instance method of B\")\n",
    "    def m2(self):\n",
    "        print(\"im method of b\")\n",
    "\n",
    "class C(B):\n",
    "    def m3(self):\n",
    "        print(\"im method of c\")\n",
    "a = A()\n",
    "a.class_method()\n",
    "a.static_method()\n",
    "a.m1()\n",
    "print(\"*\" *24)\n",
    "b = B()\n",
    "b.m1()\n",
    "b.class_method()\n",
    "b.static_method()\n",
    "print(\"*\" *24)\n",
    "c = C()\n",
    "c.m3()\n",
    "c.m2()\n",
    "c.m1()\n",
    "c.class_method()\n",
    "c.static_method()"
   ]
  },
  {
   "cell_type": "code",
   "execution_count": 36,
   "metadata": {},
   "outputs": [
    {
     "name": "stdout",
     "output_type": "stream",
     "text": [
      "Constructor method A\n",
      "im method of class d\n",
      "\n",
      "************************\n",
      "im class method \n",
      "im static method\n",
      "im method of a\n",
      "\n",
      "************************\n",
      "im method of class b\n",
      "\n",
      "************************\n",
      "im method of class c\n"
     ]
    }
   ],
   "source": [
    "#multiple inheritance \n",
    "class A:\n",
    "    def __init__(self):\n",
    "        print(\"Constructor method A\")\n",
    "    @classmethod\n",
    "    def class_method(cls):\n",
    "        print(\"im class method \")\n",
    "    @staticmethod\n",
    "    def static_method():\n",
    "        print(\"im static method\")\n",
    "\n",
    "    def m1(self):\n",
    "        print('im method of a')\n",
    "class B:\n",
    "    def m2(self):\n",
    "        print(\"im method of class b\")\n",
    "class C:\n",
    "    def m3(self):\n",
    "        print(\"im method of class c\")\n",
    "class D(A, B, C):\n",
    "    def m4(self):\n",
    "        print(\"im method of class d\")\n",
    "\n",
    "d = D()\n",
    "d.m4()\n",
    "print()\n",
    "print('*'*24)\n",
    "d.class_method()\n",
    "d.static_method()\n",
    "d.m1()\n",
    "print()\n",
    "print('*'*24)\n",
    "d.m2()\n",
    "print()\n",
    "print('*'*24)\n",
    "d.m3()\n"
   ]
  },
  {
   "cell_type": "code",
   "execution_count": 44,
   "metadata": {},
   "outputs": [
    {
     "name": "stdout",
     "output_type": "stream",
     "text": [
      "Constructor  of A\n",
      "m1 method of class a\n",
      "Constructor  of A\n",
      "m2 method of class B\n",
      "Constructor  of A\n",
      "m3 method of class C\n",
      "Constructor  of A\n",
      "m4 method of class D\n",
      "----------------------------------\n",
      "Constructor  of A\n",
      "m1 method of class a\n",
      "************************\n",
      "Constructor  of A\n",
      "m2 method of class B\n",
      "************************\n",
      "Constructor  of A\n",
      "m3 method of class C\n",
      "************************\n",
      "Constructor  of A\n",
      "m4 method of class D\n",
      "************************\n"
     ]
    }
   ],
   "source": [
    "#heirarchial inheritance \n",
    "class A:\n",
    "    def __init__(self):\n",
    "        print(\"Constructor  of A\")\n",
    "    def m1(self):\n",
    "        print(\"m1 method of class a\")\n",
    "class B(A):\n",
    "    def m2(self):\n",
    "        print(\"m2 method of class B\")\n",
    "class C(A):\n",
    "    def m3(self):\n",
    "        print(\"m3 method of class C\")\n",
    "class D(A):\n",
    "    def m4(self):\n",
    "        print(\"m4 method of class D\")\n",
    "def main():\n",
    "    A().m1()\n",
    "    B().m2()\n",
    "    C().m3()\n",
    "    D().m4()\n",
    "    print(\"-\"*34)\n",
    "    a = A()\n",
    "    a.m1()\n",
    "    print(\"*\"*24)\n",
    "    b = B()\n",
    "    b.m2()\n",
    "    print(\"*\"*24)\n",
    "    c = C()\n",
    "    c.m3()\n",
    "    print(\"*\"*24)\n",
    "    d = D()\n",
    "    d.m4()\n",
    "    print(\"*\"*24)\n",
    "    \n",
    "if __name__ ==\"__main__\":\n",
    "    main()\n"
   ]
  },
  {
   "cell_type": "markdown",
   "metadata": {},
   "source": [
    "#super()"
   ]
  },
  {
   "cell_type": "code",
   "execution_count": null,
   "metadata": {},
   "outputs": [
    {
     "name": "stdout",
     "output_type": "stream",
     "text": [
      "400 500\n"
     ]
    },
    {
     "ename": "AttributeError",
     "evalue": "'B' object has no attribute 'x'",
     "output_type": "error",
     "traceback": [
      "\u001b[0;31m---------------------------------------------------------------------------\u001b[0m",
      "\u001b[0;31mAttributeError\u001b[0m                            Traceback (most recent call last)",
      "Cell \u001b[0;32mIn[52], line 11\u001b[0m\n\u001b[1;32m      9\u001b[0m b\u001b[38;5;241m=\u001b[39m B()\n\u001b[1;32m     10\u001b[0m \u001b[38;5;28mprint\u001b[39m(b\u001b[38;5;241m.\u001b[39ma, b\u001b[38;5;241m.\u001b[39mb)\n\u001b[0;32m---> 11\u001b[0m \u001b[38;5;28mprint\u001b[39m(\u001b[43mb\u001b[49m\u001b[38;5;241;43m.\u001b[39;49m\u001b[43mx\u001b[49m)\n",
      "\u001b[0;31mAttributeError\u001b[0m: 'B' object has no attribute 'x'"
     ]
    }
   ],
   "source": [
    "class A:\n",
    "    def __init__(self):\n",
    "        self.x =200\n",
    "        self.y= 300\n",
    "class B(A):\n",
    "    def __init__(self):\n",
    "        self.a = 400\n",
    "        self.b =500\n",
    "b= B()\n",
    "print(b.a, b.b)\n",
    "print(b.x)\n",
    "#here derived class is not having access to variables inside the parent class\n",
    "\n",
    "    "
   ]
  },
  {
   "cell_type": "code",
   "execution_count": 57,
   "metadata": {},
   "outputs": [
    {
     "name": "stdout",
     "output_type": "stream",
     "text": [
      "\n",
      "x: 200\n",
      "y: 300\n",
      "a: 400\n",
      "b: 500\n",
      "the dervied class accessed all the variables      \n",
      "\n"
     ]
    }
   ],
   "source": [
    "#To overcome above problem Super() will be used \n",
    "class A:\n",
    "    def __init__(self):\n",
    "        self.x =200\n",
    "        self.y= 300\n",
    "class B(A):\n",
    "    def __init__(self):\n",
    "        super().__init__()\n",
    "        self.a = 400\n",
    "        self.b =500\n",
    "\n",
    "b = B()\n",
    "print(f\"\"\"\n",
    "x: {b.x}\n",
    "y: {b.y}\n",
    "a: {b.a}\n",
    "b: {b.b}\n",
    "the dervied class accessed all the variables      \n",
    "\"\"\")"
   ]
  },
  {
   "cell_type": "code",
   "execution_count": 60,
   "metadata": {},
   "outputs": [
    {
     "name": "stdout",
     "output_type": "stream",
     "text": [
      "Salary: 9000\n",
      "Person name: Madhu\n"
     ]
    }
   ],
   "source": [
    "#Example of single level inheritance\n",
    "class person:\n",
    "    def __init__(self):\n",
    "        self.__name= None\n",
    "    def set_name(self, N):\n",
    "        self.__name= N\n",
    "    def get_name(self):\n",
    "        print(f'Person name: {self.__name}')\n",
    "class employee(person):\n",
    "    def __init__(self):\n",
    "        super().__init__()\n",
    "        self.__sal = None\n",
    "    def set_salary(self, s):\n",
    "        self.__sal = s\n",
    "    def get_salary(self):\n",
    "        print(f\"Salary: {self.__sal}\")\n",
    "e= employee()\n",
    "e.set_name(\"Madhu\")\n",
    "e.set_salary(9000)\n",
    "e.get_salary()\n",
    "e.get_name()\n",
    "\n",
    "    "
   ]
  },
  {
   "cell_type": "code",
   "execution_count": 63,
   "metadata": {},
   "outputs": [
    {
     "name": "stdout",
     "output_type": "stream",
     "text": [
      "name: madhu\n",
      "designation: Data analyst\n",
      "salary: 900000\n"
     ]
    }
   ],
   "source": [
    "class person:\n",
    "    def __init__(self):\n",
    "        self.__name= None\n",
    "    def set_name(self, n):\n",
    "        self.__name = n\n",
    "    def get_name(self):\n",
    "        print(f'name: { self.__name}')\n",
    "class employee(person):\n",
    "    def __init__(self):\n",
    "        super().__init__()\n",
    "        self.__designation = None\n",
    "    def set_des(self, d):\n",
    "        self.__designation = d\n",
    "\n",
    "    def get_des(self):\n",
    "        print(f'designation: {self.__designation}')\n",
    "class salary(employee):\n",
    "    def __init__(self):\n",
    "        super().__init__()\n",
    "        self.__sal =None\n",
    "    def set_sal(self,s):\n",
    "        self.__sal= s\n",
    "    def get_sal(self):\n",
    "        print(f'salary: {self.__sal}')\n",
    "s = salary()\n",
    "s.set_name(\"madhu\")\n",
    "s.set_des(\"Data analyst\")\n",
    "s.set_sal(900000)\n",
    "s.get_name()\n",
    "s.get_des()\n",
    "s.get_sal()"
   ]
  },
  {
   "cell_type": "markdown",
   "metadata": {},
   "source": [
    "####Diamond shaped inheritance building using MRO which uses c3 linearisation\n",
    "\n",
    "<pre> \n",
    "      Person \n",
    "       /  \\ \n",
    "Student   Teacher \n",
    "       \\  / \n",
    "        TA \n",
    "</pre>\n",
    "You are building a simple university system using inheritance.\n",
    "\n",
    "Implement the following class structure:\n",
    "\n",
    "Person (Base class)\n",
    "Attributes: name, age\n",
    "Method: display_info()\n",
    "\n",
    "Student (Inherits from Person)\n",
    "Attributes: student_id, courses (list)\n",
    "Method: enroll(course_name), display_info() (override to show student-specific info too)\n",
    "\n",
    "Teacher (Inherits from Person)\n",
    "Attributes: employee_id, subjects (list)\n",
    "Method: assign_subject(subject_name), display_info() (override)\n",
    "\n",
    "TA (Inherits from both Student and Teacher)\n",
    "Should be able to act both like a student and a teacher.\n",
    "Override display_info() to show everything relevant."
   ]
  },
  {
   "cell_type": "code",
   "execution_count": 16,
   "metadata": {},
   "outputs": [
    {
     "name": "stdout",
     "output_type": "stream",
     "text": [
      "name: madhu, age:  46\n",
      "student_id: 19ESC, courses: []\n",
      "8888888888888888888888888888888888\n",
      "name: abel, age:  98\n",
      "ECE1 []\n",
      "8888888888888888888888888888888888\n",
      "name: madhu, age:  34\n",
      "student_id: CSE21, courses: []\n",
      "name: madhu, age:  34\n",
      "E134 []\n"
     ]
    },
    {
     "data": {
      "text/plain": [
       "[__main__.TA, __main__.student, __main__.teacher, __main__.person, object]"
      ]
     },
     "execution_count": 16,
     "metadata": {},
     "output_type": "execute_result"
    }
   ],
   "source": [
    "class person:\n",
    "    def __init__(self, name, age):\n",
    "        self.name = name\n",
    "        self.age = age\n",
    "    def display_info(self):\n",
    "        print(f\"\"\"name: {self.name}, age:  {self.age}\"\"\")\n",
    "class student(person):\n",
    "    def __init__(self, name, age, s_id):\n",
    "        person.__init__(self, name,age)\n",
    "        self.s_id= s_id\n",
    "        self.courses = []\n",
    "    def enroll(self, course_name):\n",
    "        self.courses.append(course_name)\n",
    "    def display_info(self):\n",
    "        person.display_info(self)\n",
    "        print(f\"\"\"student_id: {self.s_id}, courses: {self.courses}\"\"\")\n",
    "class teacher(person):\n",
    "    def __init__(self,name, age, e_id):\n",
    "        person.__init__(self, name, age)\n",
    "        self.employee_id = e_id\n",
    "        self.subjects= []\n",
    "    def assign_subject(self, subject_name):\n",
    "        self.subjects.append(subject_name)\n",
    "    def display_info(self):\n",
    "        person.display_info(self)\n",
    "        print(self.employee_id, self.subjects)\n",
    "class TA(student, teacher):\n",
    "    def __init__(self, name, age, s_id, e_id):\n",
    "        student.__init__(self, name, age, s_id)\n",
    "        teacher.__init__(self, name, age, e_id)\n",
    "    def display_info(self):\n",
    "        student.display_info(self)\n",
    "        teacher.display_info(self)\n",
    "\n",
    "        \n",
    "s =student(\"madhu\", 46, \"19ESC\")\n",
    "t = teacher(\"abel\", 98, \"ECE1\")\n",
    "s.display_info()\n",
    "print(\"8\"*34)\n",
    "t.display_info()\n",
    "print(\"8\"*34)\n",
    "b =TA(\"madhu\", 34, \"CSE21\", \"E134\")\n",
    "b.display_info()\n",
    "\n",
    "TA.__mro__\n",
    "TA.mro()"
   ]
  },
  {
   "cell_type": "markdown",
   "metadata": {},
   "source": [
    "#Method overriding \n"
   ]
  },
  {
   "cell_type": "markdown",
   "metadata": {},
   "source": [
    "Def: Defining a instance method inside dervived classs with same name, no of parameters, type of parameters of method defined inside the base class or parent class is called method overriding\n"
   ]
  },
  {
   "cell_type": "code",
   "execution_count": 18,
   "metadata": {},
   "outputs": [
    {
     "name": "stdout",
     "output_type": "stream",
     "text": [
      "10\n"
     ]
    }
   ],
   "source": [
    "class A:\n",
    "    def __init__(self):\n",
    "        self.n= 3\n",
    "        self.m= 5\n",
    "    def add(self):\n",
    "        return self.n+self.m\n",
    "class B(A):\n",
    "    def __init__(self):\n",
    "        super().__init__()\n",
    "        self.a = 5\n",
    "        self.b = 5\n",
    "    def add(self):\n",
    "        super().add()\n",
    "        return self.a+self.b\n",
    "b= B()\n",
    "print(b.add())\n"
   ]
  },
  {
   "cell_type": "markdown",
   "metadata": {},
   "source": [
    "Create the following class structure:\n",
    "<pre>\n",
    "Animal class:\n",
    "    Method: speak() → prints \"Animal speaks\"\n",
    "Mammal inherits from Animal:\n",
    "    Overrides speak() → prints \"Mammal sound\" and then calls the parent speak()\n",
    "Dog inherits from Mammal:\n",
    "    Overrides speak() → prints \"Dog barks\" and then calls the parent speak()\n",
    "Puppy inherits from Dog:\n",
    "    Overrides speak() → prints \"Puppy yelps\" and then calls the parent speak()\n",
    "<pre>"
   ]
  },
  {
   "cell_type": "code",
   "execution_count": 19,
   "metadata": {},
   "outputs": [
    {
     "name": "stdout",
     "output_type": "stream",
     "text": [
      "puppy yelps\n",
      "Dog barks \n",
      "Mamal sound\n",
      "Animal speaks\n"
     ]
    }
   ],
   "source": [
    "class Animal:\n",
    "    def speak(self):\n",
    "        print(\"Animal speaks\")\n",
    "class mamal(Animal):\n",
    "    def speak(self):\n",
    "        print(\"Mamal sound\")\n",
    "        super().speak()\n",
    "class Dog(mamal):\n",
    "    def speak(self):\n",
    "        print(\"Dog barks \")\n",
    "        super().speak()\n",
    "class puppy(Dog):\n",
    "    def speak(self):\n",
    "        print(\"puppy yelps\")\n",
    "        super().speak()\n",
    "p = puppy()\n",
    "p.speak()\n"
   ]
  },
  {
   "cell_type": "markdown",
   "metadata": {},
   "source": [
    "###Object class\n",
    "<div style=\"font-size: 16px;\">\n",
    "<pre>\n",
    "object class is the ultimate base class for every builtin class or user defined class in python \n",
    "                                            (or)\n",
    "every single class whether you define it or builtin. should inherit from object class either direclty or indirectly \n",
    "<pre>\n",
    "</div>\n",
    "you are often chaining up through parent classes until the python hits the object class"
   ]
  },
  {
   "cell_type": "code",
   "execution_count": 24,
   "metadata": {},
   "outputs": [
    {
     "data": {
      "text/plain": [
       "[__main__.D, __main__.C, __main__.B, __main__.A, object]"
      ]
     },
     "execution_count": 24,
     "metadata": {},
     "output_type": "execute_result"
    }
   ],
   "source": [
    "class A():\n",
    "    pass\n",
    "class B(A):\n",
    "    pass\n",
    "class C(B):\n",
    "    pass\n",
    "class D(C):\n",
    "    pass\n",
    "D.__mro__\n",
    "D.mro()\n"
   ]
  },
  {
   "cell_type": "code",
   "execution_count": 25,
   "metadata": {},
   "outputs": [
    {
     "data": {
      "text/plain": [
       "[__main__.D, __main__.C, __main__.B, __main__.A, object]"
      ]
     },
     "execution_count": 25,
     "metadata": {},
     "output_type": "execute_result"
    }
   ],
   "source": [
    "#in the above program the class A is inherited from object if we see this clearly inside of it by the below program\n",
    "class A(object):\n",
    "    pass\n",
    "class B(A):\n",
    "    pass\n",
    "class C(B):\n",
    "    pass\n",
    "class D(C):\n",
    "    pass\n",
    "D.__mro__\n",
    "D.mro()"
   ]
  },
  {
   "cell_type": "markdown",
   "metadata": {},
   "source": [
    "<h4>\n",
    "<pre>(__str__) method\n",
    "<pre>\n",
    "</h4>\n",
    "<p>str method is a special method used to define the string representation of object </p>\n",
    "see the below examples\n",
    "\n",
    "1. object without string representation\n",
    "2. object with __str__ method\n",
    "<h4>\n",
    "<pre>(__repr__) method\n",
    "<pre>\n",
    "</h4>\n",
    "<p>repr method is a special method used to define the official string representation of object </p>\n",
    "difference between this two occurs when working with interactive python shell \n",
    "\n",
    "<p></p>\n",
    "\n",
    "<div style=\"font-size: 16px;\">\n",
    "<pre>\n",
    "class Person:\n",
    "\n",
    "    def __init__(self, name, age):\n",
    "        self.name = name\n",
    "        self.age = age\n",
    "\n",
    "    def __str__(self):\n",
    "        return f\"{self.name} is {self.age} years old\"\n",
    "\n",
    "    def __repr__(self):\n",
    "        return f\"Person('{self.name}', {self.age})\"\n",
    "<div style=\"color: green\">    \n",
    "p = Person(\"Madhu\", 24)\n",
    "\n",
    "print(p)   #uses __str__ method for printing\n",
    "p           #uses  __repr__ method \n",
    "</div>\n",
    "<pre>\n",
    "</div>"
   ]
  },
  {
   "cell_type": "code",
   "execution_count": 26,
   "metadata": {},
   "outputs": [
    {
     "name": "stdout",
     "output_type": "stream",
     "text": [
      "<__main__.person object at 0x105777cd0>\n"
     ]
    }
   ],
   "source": [
    "class person():\n",
    "    def __init__(self, name, age):\n",
    "        self.name = name\n",
    "        self.age =age\n",
    "p = person(\"madhu\", 46)\n",
    "print(p)"
   ]
  },
  {
   "cell_type": "code",
   "execution_count": null,
   "metadata": {},
   "outputs": [
    {
     "name": "stdout",
     "output_type": "stream",
     "text": [
      "Person(name: madhu, age: 46)\n"
     ]
    }
   ],
   "source": [
    "#__str__ method\n",
    "class person():\n",
    "    def __init__(self, name, age):\n",
    "        self.name = name\n",
    "        self.age =age\n",
    "    def __str__(self):\n",
    "        return f'Person(name: {self.name}, age: {self.age})'\n",
    "p = person(\"madhu\", 46)\n",
    "print(p)"
   ]
  },
  {
   "cell_type": "code",
   "execution_count": 37,
   "metadata": {},
   "outputs": [
    {
     "name": "stdout",
     "output_type": "stream",
     "text": [
      "Person('Madhu', 24)\n"
     ]
    },
    {
     "data": {
      "text/plain": [
       "Person('Madhu', 24)"
      ]
     },
     "execution_count": 37,
     "metadata": {},
     "output_type": "execute_result"
    }
   ],
   "source": [
    "#__repr__ method\n",
    "class Person:\n",
    "    def __init__(self, name, age):\n",
    "        self.name = name\n",
    "        self.age = age\n",
    "\n",
    "    def __repr__(self):\n",
    "        return f\"Person('{self.name}', {self.age})\"\n",
    "    \n",
    "p = Person(\"Madhu\", 24)\n",
    "print(p)\n",
    "p"
   ]
  },
  {
   "cell_type": "code",
   "execution_count": 29,
   "metadata": {},
   "outputs": [
    {
     "data": {
      "text/plain": [
       "<__main__.person at 0x105e9fcd0>"
      ]
     },
     "execution_count": 29,
     "metadata": {},
     "output_type": "execute_result"
    }
   ],
   "source": [
    "class person():\n",
    "    def __init__(self, name, age):\n",
    "        self.name = name\n",
    "        self.age =age\n",
    "    def __str__(self):\n",
    "        return f'Person(name: {self.name}, age: {self.age})'\n",
    "p = person(\"madhu\", 46)\n",
    "p"
   ]
  },
  {
   "cell_type": "code",
   "execution_count": 31,
   "metadata": {},
   "outputs": [
    {
     "data": {
      "text/plain": [
       "Person(name: madhu, age: 46)"
      ]
     },
     "execution_count": 31,
     "metadata": {},
     "output_type": "execute_result"
    }
   ],
   "source": [
    "class person():\n",
    "    def __init__(self, name, age):\n",
    "        self.name = name\n",
    "        self.age =age\n",
    "    def __repr__(self):\n",
    "        return f'Person(name: {self.name}, age: {self.age})'\n",
    "p = person(\"madhu\", 46)\n",
    "p"
   ]
  },
  {
   "cell_type": "code",
   "execution_count": 42,
   "metadata": {},
   "outputs": [
    {
     "name": "stdout",
     "output_type": "stream",
     "text": [
      "Madhu is 24 years old\n"
     ]
    },
    {
     "data": {
      "text/plain": [
       "Person('Madhu', 24)"
      ]
     },
     "execution_count": 42,
     "metadata": {},
     "output_type": "execute_result"
    }
   ],
   "source": [
    "#difference between Reper and str method \n",
    "\n",
    "class Person:\n",
    "    def __init__(self, name, age):\n",
    "        self.name = name\n",
    "        self.age = age\n",
    "\n",
    "    def __str__(self):\n",
    "        return f\"{self.name} is {self.age} years old\"\n",
    "\n",
    "    def __repr__(self):\n",
    "        return f\"Person('{self.name}', {self.age})\"\n",
    "    \n",
    "p = Person(\"Madhu\", 24)\n",
    "\n",
    "print(p)   #uses __str__ method for printing\n",
    "p           #uses  __repr__ method \n"
   ]
  },
  {
   "cell_type": "markdown",
   "metadata": {},
   "source": [
    "###Polymorphism : defining one thing in many forms is called polymorphism\n",
    "in python polymorphism can be achieved by \n",
    "\n",
    "1. Method over riding \n",
    "2. operator over loading\n",
    "\n"
   ]
  },
  {
   "cell_type": "markdown",
   "metadata": {},
   "source": [
    "###operator overloading \n",
    "1. Python allows operator to have different meanings according to the context is called operator overloading \n",
    "2. for every operator python provides a special method or function which is known as operator function \n",
    "3. for every operator python provides a magic method which is known as operator magic method \n"
   ]
  },
  {
   "cell_type": "code",
   "execution_count": 55,
   "metadata": {},
   "outputs": [
    {
     "name": "stdout",
     "output_type": "stream",
     "text": [
      "Point(100,300)\n",
      "Point(50,50)\n",
      "Point(150,350)\n"
     ]
    }
   ],
   "source": [
    "class Point:\n",
    "    def __init__(self,p,q):\n",
    "        self.x=p\n",
    "        self.y=q\n",
    "    def __add__(self,other):\n",
    "        p3=Point(0,0)\n",
    "        p3.x=self.x+other.x\n",
    "        p3.y=self.y+other.y\n",
    "        return p3\n",
    "    def __str__(self):\n",
    "        return f'Point({self.x},{self.y})'\n",
    "p= Point(100,300)\n",
    "\n",
    "print(p)\n",
    "p2 =Point(50, 50)\n",
    "print(p2)\n",
    "p3 = Point(50, 50)\n",
    "p3 = p+p2\n",
    "print(p3)"
   ]
  },
  {
   "cell_type": "code",
   "execution_count": 58,
   "metadata": {},
   "outputs": [
    {
     "data": {
      "text/plain": [
       "(200, 200)"
      ]
     },
     "execution_count": 58,
     "metadata": {},
     "output_type": "execute_result"
    }
   ],
   "source": [
    "class Point:\n",
    "    def __init__(self, x, y):\n",
    "        self.x = x\n",
    "        self.y= y\n",
    "    def __add__(self, other):\n",
    "        return Point(self.x+other.x, self.y+other.y)\n",
    "    def __repr__(self):\n",
    "        return f\"{self.x, self.y}\"\n",
    "p1 = Point(100, 100)\n",
    "p2 = Point(100,100)\n",
    "p3 = p1+p2\n",
    "p3\n",
    "\n"
   ]
  },
  {
   "cell_type": "code",
   "execution_count": 79,
   "metadata": {},
   "outputs": [
    {
     "name": "stdout",
     "output_type": "stream",
     "text": [
      "❌ Insufficient funds to transfer\n",
      "🏦 Madhu → Balance: ₹9000.00\n"
     ]
    }
   ],
   "source": [
    "class Bank:\n",
    "    def __init__(self, a:str, b:float):\n",
    "        self.account_holder = a\n",
    "        self.balance = b\n",
    "    \n",
    "    def __add__(self, other):\n",
    "        return Bank(\"join account\", self.balance+other.balance)\n",
    "    def __sub__(self, other):\n",
    "        # Transfer other's balance from self to other\n",
    "        if self.balance >= other.balance:\n",
    "            self.balance -= other.balance\n",
    "            other.balance += other.balance\n",
    "        else:\n",
    "            print(\"❌ Insufficient funds to transfer\")\n",
    "        return self\n",
    "\n",
    "    def __str__(self):\n",
    "        return f\"🏦 {self.account_holder} → Balance: ₹{self.balance:.2f}\"\n",
    "b1 = Bank(\"Madhu\", 9000)\n",
    "b2 = Bank(\"manoj\", 10000)\n",
    "b2=  b1+b2\n",
    "b3 = b1-b2\n",
    "print(b3)\n",
    "\n",
    "\n"
   ]
  },
  {
   "cell_type": "markdown",
   "metadata": {},
   "source": [
    "###Absraction\n",
    "####Abstract class\n",
    "1. Abstract class consists of abstract method, non abstract method, variable \n",
    "2. Abstarct class cannot be instatiated but it is meant to be inherited \n",
    "3. Abstract class is a blue print for other classes\n",
    "4. Abstarct class defines set of rules and regulations, the derived class should follow them \n",
    "5. Abstarct class defines what method should exist, but not the implementation \n",
    "\n",
    "####Abstarct method\n",
    "defines inside an abstarct class and doesnt have any implementation in the base class\n",
    "\n",
    "syntax: \n",
    "\n",
    "    from abc import ABC, abstarctmethod\n",
    "    class <abstarct class name>(ABC):\n",
    "        @abstarctmethod\n",
    "        def abstarct_method_name(self):\n",
    "            pass\n"
   ]
  },
  {
   "cell_type": "code",
   "execution_count": 86,
   "metadata": {},
   "outputs": [
    {
     "name": "stdout",
     "output_type": "stream",
     "text": [
      "2826.0\n",
      "16\n"
     ]
    }
   ],
   "source": [
    "from abc import ABC, abstractmethod\n",
    "class Shape(ABC):\n",
    "    @abstractmethod\n",
    "    def area(self):\n",
    "        pass\n",
    "\n",
    "\n",
    "class Circle(Shape):\n",
    "    def __init__(self, radius):\n",
    "        self.radius = radius\n",
    "    def area(self):\n",
    "        return 3.14*self.radius*self.radius\n",
    "\n",
    "class Square(Shape):\n",
    "    def __init__(self, s):\n",
    "        self.side = s\n",
    "    def area(self):\n",
    "        return self.side* self.side\n",
    "    \n",
    "s= Circle(30)\n",
    "print(s.area())\n",
    "s1= Square(4)\n",
    "print(s1.area())\n",
    "\n"
   ]
  }
 ],
 "metadata": {
  "kernelspec": {
   "display_name": "venv",
   "language": "python",
   "name": "python3"
  },
  "language_info": {
   "codemirror_mode": {
    "name": "ipython",
    "version": 3
   },
   "file_extension": ".py",
   "mimetype": "text/x-python",
   "name": "python",
   "nbconvert_exporter": "python",
   "pygments_lexer": "ipython3",
   "version": "3.11.10"
  }
 },
 "nbformat": 4,
 "nbformat_minor": 2
}
