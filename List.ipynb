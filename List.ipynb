{
 "cells": [
  {
   "cell_type": "code",
   "execution_count": null,
   "metadata": {},
   "outputs": [
    {
     "data": {
      "text/plain": [
       "{'__name__': '__main__',\n",
       " '__doc__': 'Automatically created module for IPython interactive environment',\n",
       " '__package__': None,\n",
       " '__loader__': None,\n",
       " '__spec__': None,\n",
       " '__builtin__': <module 'builtins' (built-in)>,\n",
       " '__builtins__': <module 'builtins' (built-in)>,\n",
       " '_ih': ['', 'globals()'],\n",
       " '_oh': {},\n",
       " '_dh': [PosixPath('/Users/madhubabuduggirala/Desktop/Vscode/python_Notebooks')],\n",
       " 'In': ['', 'globals()'],\n",
       " 'Out': {},\n",
       " 'get_ipython': <function IPython.core.getipython.get_ipython()>,\n",
       " 'exit': <IPython.core.autocall.ZMQExitAutocall at 0x1047856d0>,\n",
       " 'quit': <IPython.core.autocall.ZMQExitAutocall at 0x1047856d0>,\n",
       " 'open': <function io.open(file, mode='r', buffering=-1, encoding=None, errors=None, newline=None, closefd=True, opener=None)>,\n",
       " '_': '',\n",
       " '__': '',\n",
       " '___': '',\n",
       " 'contextmanager': <function contextlib.contextmanager(func)>,\n",
       " 'functools': <module 'functools' from '/opt/homebrew/Cellar/python@3.11/3.11.10/Frameworks/Python.framework/Versions/3.11/lib/python3.11/functools.py'>,\n",
       " 'json': <module 'json' from '/opt/homebrew/Cellar/python@3.11/3.11.10/Frameworks/Python.framework/Versions/3.11/lib/python3.11/json/__init__.py'>,\n",
       " 'Any': typing.Any,\n",
       " 'Union': typing.Union,\n",
       " 'List': typing.List,\n",
       " 'os': <module 'os' (frozen)>,\n",
       " 'shlex': <module 'shlex' from '/opt/homebrew/Cellar/python@3.11/3.11.10/Frameworks/Python.framework/Versions/3.11/lib/python3.11/shlex.py'>,\n",
       " 'warnings': <module 'warnings' from '/opt/homebrew/Cellar/python@3.11/3.11.10/Frameworks/Python.framework/Versions/3.11/lib/python3.11/warnings.py'>,\n",
       " 'tempfile': <module 'tempfile' from '/opt/homebrew/Cellar/python@3.11/3.11.10/Frameworks/Python.framework/Versions/3.11/lib/python3.11/tempfile.py'>,\n",
       " 'logError': <function __main__.logError(function_name: str, e: Union[str, Exception])>,\n",
       " 'magics_class': <function IPython.core.magic.magics_class(cls)>,\n",
       " 'Magics': IPython.core.magic.Magics,\n",
       " 'line_magic': <function IPython.core.magic._method_magic_marker.<locals>.magic_deco(arg)>,\n",
       " 'needs_local_scope': <function IPython.core.magic.needs_local_scope(func)>,\n",
       " '__disposables': ['load_env_from_leaf',\n",
       "  'create_and_register_databricks_globals',\n",
       "  'EnvLoader',\n",
       "  'LocalDatabricksNotebookConfig',\n",
       "  'DatabricksMagics',\n",
       "  'register_magics',\n",
       "  'register_formatters',\n",
       "  'update_sys_path',\n",
       "  'make_matplotlib_inline'],\n",
       " 'disposable': <function __main__.disposable(f)>,\n",
       " 'logErrorAndContinue': <function __main__.logErrorAndContinue(f)>,\n",
       " 'load_env_from_leaf': <function __main__.load_env_from_leaf(path: str) -> bool>,\n",
       " 'create_and_register_databricks_globals': <function __main__.create_and_register_databricks_globals()>,\n",
       " 'EnvLoader': __main__.EnvLoader,\n",
       " 'LocalDatabricksNotebookConfig': __main__.LocalDatabricksNotebookConfig,\n",
       " 'DatabricksMagics': __main__.DatabricksMagics,\n",
       " 'is_databricks_notebook': <function __main__.is_databricks_notebook(py_file: str)>,\n",
       " 'strip_hash_magic': <function __main__.strip_hash_magic(lines: List[str]) -> List[str]>,\n",
       " 'convert_databricks_notebook_to_ipynb': <function __main__.convert_databricks_notebook_to_ipynb(py_file: str)>,\n",
       " 'databricks_notebook_exec_env': <function __main__.databricks_notebook_exec_env(project_root: str, py_file: str)>,\n",
       " 'register_magics': <function __main__.register_magics(cfg: __main__.LocalDatabricksNotebookConfig)>,\n",
       " 'register_formatters': <function __main__.register_formatters(notebook_config: __main__.LocalDatabricksNotebookConfig)>,\n",
       " 'update_sys_path': <function __main__.update_sys_path(notebook_config: __main__.LocalDatabricksNotebookConfig)>,\n",
       " 'make_matplotlib_inline': <function __main__.make_matplotlib_inline()>,\n",
       " 'sys': <module 'sys' (built-in)>,\n",
       " '__vsc_ipynb_file__': '/Users/madhubabuduggirala/Desktop/Vscode/python_Notebooks/List.ipynb',\n",
       " '__DW_SCOPE__': {'output_cache': {},\n",
       "  'output-d213f288-8550-48ce-a08c-5cbb2b5049ef': {'enable_for_types': <function __main__.__DW_OUTPUT_FORMATTER__.<locals>.enable_formatter_for_types(*args)>,\n",
       "   'disable': <function __main__.__DW_OUTPUT_FORMATTER__.<locals>.disable_formatter()>}},\n",
       " '_i': '',\n",
       " '_ii': '',\n",
       " '_iii': '',\n",
       " '_i1': 'globals()'}"
      ]
     },
     "execution_count": 1,
     "metadata": {},
     "output_type": "execute_result"
    }
   ],
   "source": []
  },
  {
   "cell_type": "code",
   "execution_count": null,
   "metadata": {},
   "outputs": [],
   "source": []
  }
 ],
 "metadata": {
  "kernelspec": {
   "display_name": "venv",
   "language": "python",
   "name": "python3"
  },
  "language_info": {
   "codemirror_mode": {
    "name": "ipython",
    "version": 3
   },
   "file_extension": ".py",
   "mimetype": "text/x-python",
   "name": "python",
   "nbconvert_exporter": "python",
   "pygments_lexer": "ipython3",
   "version": "3.11.10"
  }
 },
 "nbformat": 4,
 "nbformat_minor": 2
}
