{
 "cells": [
  {
   "cell_type": "code",
   "execution_count": 76,
   "id": "9ee065f6",
   "metadata": {},
   "outputs": [
    {
     "name": "stdout",
     "output_type": "stream",
     "text": [
      "1 1\n",
      "2 2\n",
      "3 3\n",
      "4 4\n"
     ]
    }
   ],
   "source": [
    "#Enumerate \n",
    "a= [1,2,3,4]\n",
    "b =enumerate(a)\n",
    "for i, j in enumerate(a, 1):\n",
    "    print(i , j)"
   ]
  },
  {
   "cell_type": "markdown",
   "id": "6900ac92",
   "metadata": {},
   "source": [
    "###Decorators\n",
    "1. Decorator are powerful tool in python, where programmer can modify the behaviout of a function or a class\n",
    "2. Decorator is a design tool that allows programmer to add a new functionality for an existing function without modyfying its struture\n",
    "3. Decorator is a function in python which takes another function as an argument and extends its functionality without modyfying it\n",
    "\n",
    "####Predefined Decorators\n",
    "1. @abstractmethod, @staticmethod, @classmethod\n",
    "####User Defiend decorators:\n",
    "1. define a function which takes another function as an argument \n",
    "2. define an inner function which extends functionality of the recieved function without modifying it \n",
    "3. return the inner function/ modified function\n",
    "\n",
    "#####syntax:\n",
    "<pre>\n",
    "def <decorator_function_name>(function):\n",
    "    def <inner_function>(params):\n",
    "        stmt\n",
    "        stmt\n",
    "    return inner_function\n",
    "</pre>"
   ]
  },
  {
   "cell_type": "code",
   "execution_count": null,
   "id": "5517c609",
   "metadata": {},
   "outputs": [
    {
     "name": "stdout",
     "output_type": "stream",
     "text": [
      "hello world\n",
      "++++++++++++++++++++++++++++++\n",
      "before function call\n",
      "hello world\n",
      "after function call\n"
     ]
    }
   ],
   "source": [
    "#think decorator like a wrapper\n",
    "# lets say we have a sandwich  -> original function\n",
    "# the decorator wraps it with foil  -> Add a new functionality \n",
    "# now we have packaged version of sandwich -> new function\n",
    "def my_decorator(function):\n",
    "    def wrapper():\n",
    "        print(\"before function call\")\n",
    "        function()\n",
    "        print(\"after function call\")\n",
    "    return wrapper\n",
    "@my_decorator\n",
    "def say_hello():\n",
    "    print(\"hello world\")\n",
    "\n",
    "say_hello()\n",
    "print(\"+\"*30)\n",
    "\n",
    "a= my_decorator(say_hello)\n",
    "a()"
   ]
  },
  {
   "cell_type": "code",
   "execution_count": 86,
   "id": "d613199f",
   "metadata": {},
   "outputs": [
    {
     "name": "stdout",
     "output_type": "stream",
     "text": [
      "++++++++++++++++++++\n",
      "Hello Iam a decorator\n",
      "++++++++++++++++++++\n"
     ]
    },
    {
     "data": {
      "text/plain": [
       "<function __main__.draw.<locals>.display_new()>"
      ]
     },
     "execution_count": 86,
     "metadata": {},
     "output_type": "execute_result"
    }
   ],
   "source": [
    "#Example\n",
    "def draw(function):\n",
    "    def display_new():\n",
    "        print(\"+\" *20)\n",
    "        function()\n",
    "        print(\"+\" *20)\n",
    "    return display_new\n",
    "@draw \n",
    "def display():\n",
    "    print(\"Hello Iam a decorator\")\n",
    "@draw\n",
    "def print_data():\n",
    "    d= {\"Name\": \"Madhu\", \"Age\": 21, \"Single\":\"Yes\"}\n",
    "\n",
    "a= draw(display())\n",
    "a"
   ]
  },
  {
   "cell_type": "code",
   "execution_count": 100,
   "id": "a62cf9b8",
   "metadata": {},
   "outputs": [
    {
     "name": "stdout",
     "output_type": "stream",
     "text": [
      "++++++++++++++++++++\n",
      "Hello Iam a decorator\n",
      "++++++++++++++++++++\n"
     ]
    }
   ],
   "source": [
    "def draw(function):\n",
    "    def display_new():\n",
    "        print(\"+\" *20)\n",
    "        function()\n",
    "        print(\"+\" *20)\n",
    "    return display_new\n",
    "@draw \n",
    "def display():\n",
    "    print(\"Hello Iam a decorator\")\n",
    "\n",
    "# a= draw(display)\n",
    "# a()\n",
    "\n",
    "# a= draw(display())\n",
    "# a\n",
    "a = draw(display())"
   ]
  },
  {
   "cell_type": "code",
   "execution_count": 136,
   "id": "375d6453",
   "metadata": {},
   "outputs": [
    {
     "name": "stdout",
     "output_type": "stream",
     "text": [
      "Wrapper executed before display\n",
      "The display function was called\n"
     ]
    }
   ],
   "source": [
    "def decorator_function(func):\n",
    "    def wrapper_function():\n",
    "        print(f'Wrapper executed before {func.__name__}')\n",
    "        return func()\n",
    "    return wrapper_function\n",
    "\n",
    "@decorator_function\n",
    "def display():\n",
    "    print('The display function was called')\n",
    "\n",
    "display()  # Outputs: Wrapper executed before display\n",
    "           #          The display function was called"
   ]
  },
  {
   "cell_type": "code",
   "execution_count": 156,
   "id": "5b0da88b",
   "metadata": {},
   "outputs": [
    {
     "name": "stdout",
     "output_type": "stream",
     "text": [
      "executed before display\n",
      "param, Madhu\n",
      "param, Manoj\n",
      "param, 40\n",
      "param, 40\n",
      "param, {'age': 21}\n",
      "display Iam display\n"
     ]
    }
   ],
   "source": [
    "#without arguments \n",
    "def dec(fun) :\n",
    "    def wrapper(*param, **kwargs):\n",
    "        print(f\"executed before {fun.__name__}\")\n",
    "        return fun(*param, **kwargs)\n",
    "    return wrapper\n",
    "@dec\n",
    "def display(*param, **age):\n",
    "    for i in param:\n",
    "        print(f\"param, {i}\")\n",
    "    for i, j in age.items():\n",
    "        print(f\"{i}: {j}\")\n",
    "    print(\"display Iam display\")\n",
    "\n",
    "display(\"Madhu\", \"Manoj\", 40, 40, {\"age\":21})"
   ]
  },
  {
   "cell_type": "markdown",
   "id": "63014a1a",
   "metadata": {},
   "source": [
    "####Class based Decorator"
   ]
  },
  {
   "cell_type": "code",
   "execution_count": 157,
   "id": "cb79eba6",
   "metadata": {},
   "outputs": [
    {
     "name": "stdout",
     "output_type": "stream",
     "text": [
      "function executed before display\n",
      "Iam a display with class based dec\n"
     ]
    }
   ],
   "source": [
    "class Decorator:\n",
    "    def __init__(self, func):\n",
    "        self.func = func\n",
    "    def __call__(self, *args, **kwargs):\n",
    "        print(f\"function executed before {self.func.__name__}\")\n",
    "        return self.func(*args, **kwargs)\n",
    "@Decorator\n",
    "def display():\n",
    "    print(\"Iam a display with class based dec\")\n",
    "\n",
    "display()\n",
    "\n"
   ]
  },
  {
   "cell_type": "markdown",
   "id": "e5a1b09e",
   "metadata": {},
   "source": [
    "###Decorator Chaining \n",
    "1. Applying multiple decorarors to  a single function"
   ]
  },
  {
   "cell_type": "code",
   "execution_count": 159,
   "id": "7a4e43e4",
   "metadata": {},
   "outputs": [
    {
     "name": "stdout",
     "output_type": "stream",
     "text": [
      "******************************\n",
      "$$$$$$$$$$$$$$$$$$$$$$$$$$$$$$\n",
      "Python course\n",
      "$$$$$$$$$$$$$$$$$$$$$$$$$$$$$$\n",
      "******************************\n"
     ]
    }
   ],
   "source": [
    "def stars(func):\n",
    "    def inner():\n",
    "        print(\"*\"*30)\n",
    "        func()\n",
    "        print(\"*\"*30)\n",
    "    return inner\n",
    "def dollars(func):\n",
    "    def inner():\n",
    "        print(\"$\"*30)\n",
    "        func()\n",
    "        print(\"$\"*30)\n",
    "    return inner\n",
    "@stars\n",
    "@dollars\n",
    "def display():\n",
    "    print(\"Python course\")\n",
    "\n",
    "display()\n"
   ]
  },
  {
   "cell_type": "markdown",
   "id": "aacf08a0",
   "metadata": {},
   "source": [
    "###Closures"
   ]
  },
  {
   "cell_type": "code",
   "execution_count": 195,
   "id": "06061a06",
   "metadata": {},
   "outputs": [
    {
     "name": "stdout",
     "output_type": "stream",
     "text": [
      "My name is  python\n"
     ]
    }
   ],
   "source": [
    "\n",
    "def outer():\n",
    "    a= 25\n",
    "    name = \"python\"\n",
    "    def inner(prefix):\n",
    "        print(prefix, name)\n",
    "    return inner\n",
    "\n",
    "my_func = outer()\n",
    "my_func(\"My name is \")\n"
   ]
  },
  {
   "cell_type": "code",
   "execution_count": 190,
   "id": "db674ee2",
   "metadata": {},
   "outputs": [
    {
     "name": "stdout",
     "output_type": "stream",
     "text": [
      "2\n",
      "6\n",
      "16\n"
     ]
    }
   ],
   "source": [
    "def closure():\n",
    "    a= 1\n",
    "    def inner(num):\n",
    "        nonlocal a\n",
    "        a = a+num\n",
    "        print(a)\n",
    "    return inner\n",
    "c= closure()\n",
    "c(1)\n",
    "c(4)\n",
    "c(10)"
   ]
  },
  {
   "cell_type": "code",
   "execution_count": null,
   "id": "5602e8f5",
   "metadata": {},
   "outputs": [],
   "source": []
  },
  {
   "cell_type": "code",
   "execution_count": null,
   "id": "e8ec0929",
   "metadata": {},
   "outputs": [],
   "source": []
  }
 ],
 "metadata": {
  "kernelspec": {
   "display_name": "venv",
   "language": "python",
   "name": "python3"
  },
  "language_info": {
   "codemirror_mode": {
    "name": "ipython",
    "version": 3
   },
   "file_extension": ".py",
   "mimetype": "text/x-python",
   "name": "python",
   "nbconvert_exporter": "python",
   "pygments_lexer": "ipython3",
   "version": "3.11.10"
  }
 },
 "nbformat": 4,
 "nbformat_minor": 5
}
