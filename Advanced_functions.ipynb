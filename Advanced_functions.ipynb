{
 "cells": [
  {
   "cell_type": "code",
   "execution_count": 76,
   "id": "9ee065f6",
   "metadata": {},
   "outputs": [
    {
     "name": "stdout",
     "output_type": "stream",
     "text": [
      "1 1\n",
      "2 2\n",
      "3 3\n",
      "4 4\n"
     ]
    }
   ],
   "source": [
    "#Enumerate \n",
    "a= [1,2,3,4]\n",
    "b =enumerate(a)\n",
    "for i, j in enumerate(a, 1):\n",
    "    print(i , j)"
   ]
  },
  {
   "cell_type": "markdown",
   "id": "6900ac92",
   "metadata": {},
   "source": [
    "###Decorators\n",
    "1. Decorator are powerful tool in python, where programmer can modify the behaviout of a function or a class\n",
    "2. Decorator is a design tool that allows programmer to add a new functionality for an existing function without modyfying its struture\n",
    "3. Decorator is a function in python which takes another function as an argument and extends its functionality without modyfying it\n",
    "\n",
    "####Predefined Decorators\n",
    "1. @abstractmethod, @staticmethod, @classmethod\n",
    "####User Defiend decorators:\n",
    "1. define a function which takes another function as an argument \n",
    "2. define an inner function which extends functionality of the recieved function without modifying it \n",
    "3. return the inner function/ modified function\n",
    "\n",
    "#####syntax:\n",
    "<pre>\n",
    "def <decorator_function_name>(function):\n",
    "    def <inner_function>(params):\n",
    "        stmt\n",
    "        stmt\n",
    "    return inner_function\n",
    "</pre>"
   ]
  },
  {
   "cell_type": "code",
   "execution_count": 93,
   "id": "5517c609",
   "metadata": {},
   "outputs": [
    {
     "name": "stdout",
     "output_type": "stream",
     "text": [
      "hello world\n",
      "++++++++++++++++++++++++++++++\n",
      "before function call\n",
      "hello world\n",
      "after function call\n"
     ]
    }
   ],
   "source": [
    "#think decorator like a wrapper\n",
    "# lets say we have a sandwich  -> original function\n",
    "# the decorator wraps it with foil  -> Add a new functionality \n",
    "# now we have packaged version of sandwich -> new function\n",
    "def my_decorator(function):\n",
    "    def wrapper():\n",
    "        print(\"before function call\")\n",
    "        function()\n",
    "        print(\"after function call\")\n",
    "    return wrapper\n",
    "@my_decorator\n",
    "def say_hello():\n",
    "    print(\"hello world\")\n",
    "\n",
    "say_hello()\n",
    "print(\"+\"*30)\n",
    "\n",
    "a= my_decorator(say_hello)\n",
    "a()"
   ]
  },
  {
   "cell_type": "code",
   "execution_count": 86,
   "id": "d613199f",
   "metadata": {},
   "outputs": [
    {
     "name": "stdout",
     "output_type": "stream",
     "text": [
      "++++++++++++++++++++\n",
      "Hello Iam a decorator\n",
      "++++++++++++++++++++\n"
     ]
    },
    {
     "data": {
      "text/plain": [
       "<function __main__.draw.<locals>.display_new()>"
      ]
     },
     "execution_count": 86,
     "metadata": {},
     "output_type": "execute_result"
    }
   ],
   "source": [
    "#Example\n",
    "def draw(function):\n",
    "    def display_new():\n",
    "        print(\"+\" *20)\n",
    "        function()\n",
    "        print(\"+\" *20)\n",
    "    return display_new\n",
    "@draw \n",
    "def display():\n",
    "    print(\"Hello Iam a decorator\")\n",
    "@draw\n",
    "def print_data():\n",
    "    d= {\"Name\": \"Madhu\", \"Age\": 21, \"Single\":\"Yes\"}\n",
    "\n",
    "a= draw(display())\n",
    "a"
   ]
  },
  {
   "cell_type": "code",
   "execution_count": 100,
   "id": "a62cf9b8",
   "metadata": {},
   "outputs": [
    {
     "name": "stdout",
     "output_type": "stream",
     "text": [
      "++++++++++++++++++++\n",
      "Hello Iam a decorator\n",
      "++++++++++++++++++++\n"
     ]
    }
   ],
   "source": [
    "def draw(function):\n",
    "    def display_new():\n",
    "        print(\"+\" *20)\n",
    "        function()\n",
    "        print(\"+\" *20)\n",
    "    return display_new\n",
    "@draw \n",
    "def display():\n",
    "    print(\"Hello Iam a decorator\")\n",
    "\n",
    "# a= draw(display)\n",
    "# a()\n",
    "\n",
    "# a= draw(display())\n",
    "# a\n",
    "a = draw(display())"
   ]
  },
  {
   "cell_type": "code",
   "execution_count": 136,
   "id": "375d6453",
   "metadata": {},
   "outputs": [
    {
     "name": "stdout",
     "output_type": "stream",
     "text": [
      "Wrapper executed before display\n",
      "The display function was called\n"
     ]
    }
   ],
   "source": [
    "def decorator_function(func):\n",
    "    def wrapper_function():\n",
    "        print(f'Wrapper executed before {func.__name__}')\n",
    "        return func()\n",
    "    return wrapper_function\n",
    "\n",
    "@decorator_function\n",
    "def display():\n",
    "    print('The display function was called')\n",
    "\n",
    "display()  # Outputs: Wrapper executed before display\n",
    "           #          The display function was called"
   ]
  },
  {
   "cell_type": "code",
   "execution_count": 156,
   "id": "5b0da88b",
   "metadata": {},
   "outputs": [
    {
     "name": "stdout",
     "output_type": "stream",
     "text": [
      "executed before display\n",
      "param, Madhu\n",
      "param, Manoj\n",
      "param, 40\n",
      "param, 40\n",
      "param, {'age': 21}\n",
      "display Iam display\n"
     ]
    }
   ],
   "source": [
    "#without arguments \n",
    "def dec(fun) :\n",
    "    def wrapper(*param, **kwargs):\n",
    "        print(f\"executed before {fun.__name__}\")\n",
    "        return fun(*param, **kwargs)\n",
    "    return wrapper\n",
    "@dec\n",
    "def display(*param, **age):\n",
    "    for i in param:\n",
    "        print(f\"param, {i}\")\n",
    "    for i, j in age.items():\n",
    "        print(f\"{i}: {j}\")\n",
    "    print(\"display Iam display\")\n",
    "\n",
    "display(\"Madhu\", \"Manoj\", 40, 40, {\"age\":21})"
   ]
  },
  {
   "cell_type": "markdown",
   "id": "63014a1a",
   "metadata": {},
   "source": [
    "####Class based Decorator"
   ]
  },
  {
   "cell_type": "code",
   "execution_count": 157,
   "id": "cb79eba6",
   "metadata": {},
   "outputs": [
    {
     "name": "stdout",
     "output_type": "stream",
     "text": [
      "function executed before display\n",
      "Iam a display with class based dec\n"
     ]
    }
   ],
   "source": [
    "class Decorator:\n",
    "    def __init__(self, func):\n",
    "        self.func = func\n",
    "    def __call__(self, *args, **kwargs):\n",
    "        print(f\"function executed before {self.func.__name__}\")\n",
    "        return self.func(*args, **kwargs)\n",
    "@Decorator\n",
    "def display():\n",
    "    print(\"Iam a display with class based dec\")\n",
    "\n",
    "display()\n",
    "\n"
   ]
  },
  {
   "cell_type": "markdown",
   "id": "e5a1b09e",
   "metadata": {},
   "source": [
    "###Decorator Chaining \n",
    "1. Applying multiple decorarors to  a single function"
   ]
  },
  {
   "cell_type": "code",
   "execution_count": 159,
   "id": "7a4e43e4",
   "metadata": {},
   "outputs": [
    {
     "name": "stdout",
     "output_type": "stream",
     "text": [
      "******************************\n",
      "$$$$$$$$$$$$$$$$$$$$$$$$$$$$$$\n",
      "Python course\n",
      "$$$$$$$$$$$$$$$$$$$$$$$$$$$$$$\n",
      "******************************\n"
     ]
    }
   ],
   "source": [
    "def stars(func):\n",
    "    def inner():\n",
    "        print(\"*\"*30)\n",
    "        func()\n",
    "        print(\"*\"*30)\n",
    "    return inner\n",
    "def dollars(func):\n",
    "    def inner():\n",
    "        print(\"$\"*30)\n",
    "        func()\n",
    "        print(\"$\"*30)\n",
    "    return inner\n",
    "@stars\n",
    "@dollars\n",
    "def display():\n",
    "    print(\"Python course\")\n",
    "\n",
    "display()\n"
   ]
  },
  {
   "cell_type": "markdown",
   "id": "aacf08a0",
   "metadata": {},
   "source": [
    "###Closures\n"
   ]
  },
  {
   "cell_type": "code",
   "execution_count": 195,
   "id": "06061a06",
   "metadata": {},
   "outputs": [
    {
     "name": "stdout",
     "output_type": "stream",
     "text": [
      "My name is  python\n"
     ]
    }
   ],
   "source": [
    "\n",
    "def outer():\n",
    "    a= 25\n",
    "    name = \"python\"\n",
    "    def inner(prefix):\n",
    "        print(prefix, name)\n",
    "    return inner\n",
    "\n",
    "my_func = outer()\n",
    "my_func(\"My name is \")\n"
   ]
  },
  {
   "cell_type": "code",
   "execution_count": 196,
   "id": "db674ee2",
   "metadata": {},
   "outputs": [
    {
     "name": "stdout",
     "output_type": "stream",
     "text": [
      "11\n"
     ]
    }
   ],
   "source": [
    "def closure():\n",
    "    a= 1\n",
    "    def inner(num):\n",
    "        nonlocal a\n",
    "        a = a+num\n",
    "        return a\n",
    "    return inner\n",
    "c= closure()\n",
    "in1= c(10)\n",
    "print(in1)"
   ]
  },
  {
   "cell_type": "code",
   "execution_count": 197,
   "id": "f5190948",
   "metadata": {},
   "outputs": [
    {
     "name": "stdout",
     "output_type": "stream",
     "text": [
      "0\n",
      "1\n",
      "4\n"
     ]
    }
   ],
   "source": [
    "def outer():\n",
    "    funcs = []\n",
    "    for i in range(3):\n",
    "        def inner(i=i):  # 👈 captures current value of i\n",
    "            return i * i\n",
    "        funcs.append(inner)\n",
    "    return funcs\n",
    "\n",
    "f1, f2, f3 = outer()\n",
    "\n",
    "print(f1())  # 0\n",
    "print(f2())  # 1\n",
    "print(f3())  # 4"
   ]
  },
  {
   "cell_type": "markdown",
   "id": "61dd98aa",
   "metadata": {},
   "source": [
    "<h1 style=\"text-align: center\">Generator Functions or Genertors </h1>\n"
   ]
  },
  {
   "cell_type": "markdown",
   "id": "9acbbfbb",
   "metadata": {},
   "source": [
    "##Generator Function\n",
    "\n",
    "1. Generator function returns a generator object which behaves like an iterator \n",
    "2. generator function allows user to declare a function which behaves like an iterator \n",
    "3. Genertor function used to create iterators and return traversal objects. it helps in traversing all the elements one at a time using the yield keyword"
   ]
  },
  {
   "cell_type": "code",
   "execution_count": 245,
   "id": "cf59b0f4",
   "metadata": {},
   "outputs": [
    {
     "data": {
      "text/plain": [
       "<generator object fun1 at 0x11f658250>"
      ]
     },
     "execution_count": 245,
     "metadata": {},
     "output_type": "execute_result"
    }
   ],
   "source": [
    "def fun1():\n",
    "    yield 1\n",
    "    yield 2\n",
    "    yield 3\n",
    "    yield 4\n",
    "    yield 5\n",
    "f = fun1()\n",
    "f"
   ]
  },
  {
   "cell_type": "code",
   "execution_count": 232,
   "id": "5602e8f5",
   "metadata": {},
   "outputs": [
    {
     "name": "stdout",
     "output_type": "stream",
     "text": [
      "1 2 3\n",
      "4\n",
      "5\n"
     ]
    }
   ],
   "source": [
    "def fun1():\n",
    "    yield 1\n",
    "    yield 2\n",
    "    yield 3\n",
    "    yield 4\n",
    "    yield 5\n",
    "def fun2():\n",
    "    return 1\n",
    "    return 2\n",
    "    return 3\n",
    "    return 4\n",
    "    return 5\n",
    "f =fun1()\n",
    "a = next(f)\n",
    "b= next(f)\n",
    "c= next(f)\n",
    "print(a,b,c)\n",
    "for value in f:\n",
    "    print(value)\n"
   ]
  },
  {
   "cell_type": "code",
   "execution_count": 238,
   "id": "e8ec0929",
   "metadata": {},
   "outputs": [
    {
     "name": "stdout",
     "output_type": "stream",
     "text": [
      "1\n",
      "4\n",
      "9\n",
      "16\n",
      "25\n"
     ]
    }
   ],
   "source": [
    "def sqr_generator(m,n):\n",
    "    for i in range(m,n):\n",
    "        i= i**2\n",
    "        yield i\n",
    "f = sqr_generator(1,6)\n",
    "for i in f:\n",
    "    print(i)"
   ]
  },
  {
   "cell_type": "code",
   "execution_count": 244,
   "id": "cebea1b9",
   "metadata": {},
   "outputs": [
    {
     "name": "stdout",
     "output_type": "stream",
     "text": [
      "iam a reversing generator, working as a iterator\n",
      "700\t600\t500\t400\t300\t200\t100\t10\t9\t8\t7\t6\t5\t4\t3\t2\t1\t\n",
      "iam a predefined iterator\n",
      "1\t2\t3\t4\t5\t6\t7\t8\t9\t10\t100\t200\t300\t400\t500\t600\t700\t"
     ]
    }
   ],
   "source": [
    "def rev_iter(list1):\n",
    "    print(\"iam a reversing generator, working as a iterator\")\n",
    "    for i in list1[::-1]:\n",
    "        yield i\n",
    "\n",
    "\n",
    "list1= [1,2,3,4,5,6,7,8,9,10,100,200,300,400,500,600,700]\n",
    "r1= rev_iter(list1)\n",
    "for i in r1:\n",
    "    print(i, end='\\t')\n",
    "\n",
    "predef_iter = iter(list1)\n",
    "print()\n",
    "print(\"iam a predefined iterator\")\n",
    "for i in predef_iter:\n",
    "    print(i, end='\\t')\n",
    "    \n"
   ]
  },
  {
   "cell_type": "markdown",
   "id": "8e63a6cc",
   "metadata": {},
   "source": [
    "##Generator\n",
    "1. Generator is a single line statement which return a generator object\n",
    "2. it is similiar to list comprehensions\n",
    "\n",
    "syntax:  <var_name> = (experssion for variable in iterator if text)\n"
   ]
  },
  {
   "cell_type": "code",
   "execution_count": 255,
   "id": "5837a1fb",
   "metadata": {},
   "outputs": [
    {
     "name": "stdout",
     "output_type": "stream",
     "text": [
      "A B C D E F G H I J K L M N O P Q R S T U V W X Y Z \n",
      "2 4 6 8 10 12 14 16 18 20 "
     ]
    }
   ],
   "source": [
    "alphabet_generator = (chr(i) for i  in range(65, 91))\n",
    "for i in alphabet_generator:\n",
    "    print(i, end=\" \")\n",
    "print()\n",
    "even_generator = (n for n in range(1,21) if n%2 ==0 )\n",
    "for i in even_generator:\n",
    "    print(i, end=' ')"
   ]
  },
  {
   "cell_type": "markdown",
   "id": "dd96af39",
   "metadata": {},
   "source": [
    "##Lambda function or anonymous function or lambda expression\n",
    "1. A function without name is called anonymous function\n",
    "2. lambda function is a small fucntion and is for one time use after it will throw away from memeory \n",
    "3. lambda function takes any number of parameters and has only one expression to evaluate\n",
    "4. it can be used in higher order functions such as map(), filter(), reduce(), sort()\n",
    "5. A function which recieves another function as input is called higher order functions.\n",
    "\n",
    "syntax: <varname> = lambda parameters: expression"
   ]
  },
  {
   "cell_type": "code",
   "execution_count": 260,
   "id": "cd5ccaca",
   "metadata": {},
   "outputs": [
    {
     "name": "stdout",
     "output_type": "stream",
     "text": [
      "4\n",
      "4\n",
      "10\n",
      "1046529\n"
     ]
    }
   ],
   "source": [
    "double = lambda x: x*2 \n",
    "min_val = lambda x,y : x if x<y else y\n",
    "max_val = lambda x,y : x if x>y else y\n",
    "square = lambda x: x**2\n",
    "print(double(2))\n",
    "print(min_val(4,5))\n",
    "print(max_val(6,10))\n",
    "print(square(1023))"
   ]
  },
  {
   "cell_type": "markdown",
   "id": "b740d35f",
   "metadata": {},
   "source": [
    "##map(function, iterables, *iterables)\n",
    "1. map applies given function to all item in the iterable\n",
    "2. it returns map object and it is iterable\n",
    "3. if multiple iterables is passed the fucntion should take that many arguments and is applied to all the items in iterables in parallel\n",
    " "
   ]
  },
  {
   "cell_type": "code",
   "execution_count": 264,
   "id": "55525611",
   "metadata": {},
   "outputs": [
    {
     "name": "stdout",
     "output_type": "stream",
     "text": [
      "35.0 | 53.0 | 71.0 | 89.0 | 107.0 | 125.0 | "
     ]
    }
   ],
   "source": [
    "def c_to_f (temp):\n",
    "    return (temp* 9/5)+35\n",
    "celsius = [0.0, 10.0, 20.0, 30.0, 40.0, 50.0]\n",
    "farenheit = map(c_to_f, celsius)\n",
    "\n",
    "# farenheit -> \n",
    "for temp in farenheit:\n",
    "    print(temp, end=' | ')\n"
   ]
  },
  {
   "cell_type": "code",
   "execution_count": 265,
   "id": "f7e83c41",
   "metadata": {},
   "outputs": [
    {
     "data": {
      "text/plain": [
       "[35.0, 53.0, 71.0, 89.0, 107.0, 125.0]"
      ]
     },
     "execution_count": 265,
     "metadata": {},
     "output_type": "execute_result"
    }
   ],
   "source": [
    "farenheit = list(map(c_to_f, celsius))\n",
    "farenheit"
   ]
  },
  {
   "cell_type": "code",
   "execution_count": 266,
   "id": "3cf89190",
   "metadata": {},
   "outputs": [
    {
     "name": "stdout",
     "output_type": "stream",
     "text": [
      "[97, 98, 99, 100, 101, 102]\n"
     ]
    }
   ],
   "source": [
    "#using lambda in map\n",
    "l= ['a', 'b', 'c', 'd', 'e','f']\n",
    "Ascii = list(map(lambda x: ord(x), l))\n",
    "print(Ascii)"
   ]
  },
  {
   "cell_type": "code",
   "execution_count": 267,
   "id": "19154d43",
   "metadata": {},
   "outputs": [
    {
     "name": "stdout",
     "output_type": "stream",
     "text": [
      "[0, 2, 0, 4, 0, 6, 0, 8, 0, 10, 0, 12, 0, 14, 0, 16, 0, 18, 0, 20, 0, 22, 0, 24, 0, 26, 0, 28, 0, 30, 0, 32, 0, 34, 0, 36, 0, 38, 0, 40]\n"
     ]
    }
   ],
   "source": [
    "#using external function in map\n",
    "def even(n ):\n",
    "    return n if n%2==0 else 0\n",
    "\n",
    "even_map = list(map(even, range(1,41)))\n",
    "print(even_map)"
   ]
  },
  {
   "cell_type": "markdown",
   "id": "2efecf80",
   "metadata": {},
   "source": [
    "##filter(function, iterable)\n",
    "1. Applies the function to all the items in iterable\n",
    "2. it only gives the truthy values and eliminates falsy values like 0, None, False, '', [], {}\n"
   ]
  },
  {
   "cell_type": "code",
   "execution_count": 270,
   "id": "e1901bc4",
   "metadata": {},
   "outputs": [
    {
     "name": "stdout",
     "output_type": "stream",
     "text": [
      "<filter object at 0x11f3acca0>\n",
      "2 4 6 8 10 12 14 16 18 20 22 24 26 28 30 32 34 36 38 40 "
     ]
    }
   ],
   "source": [
    "even_map = filter(even, range(1,41))\n",
    "print(even_map)\n",
    "for i in even_map:\n",
    "    print(i, end=' ')"
   ]
  },
  {
   "cell_type": "markdown",
   "id": "d3dca141",
   "metadata": {},
   "source": [
    "\"Why does filter() eliminate 0 but map() doesn’t?\"\n",
    "\n",
    " The Reason: filter() only includes truthy values\n",
    "filter(func, iterable) includes an item only if func(item) returns a \"truthy\" value.\n",
    "\n",
    "In Python:\n",
    "\n",
    "0, None, False, '', [], {} → Falsy\n",
    "\n",
    "Everything else → Truthy\n",
    "\n",
    "So if even(n) returns 0, filter() says:\n",
    "\n",
    "\"Nah, that’s falsy. I’ll skip it.\"\n",
    "\n",
    "Even though 0 is an even number, it’s falsy — so filter() drops it.\n",
    "\n",
    "✔️ map() keeps all items and returns whatever the function gives — even if it’s None or 0.\n",
    "\n"
   ]
  },
  {
   "cell_type": "code",
   "execution_count": 271,
   "id": "f37edd02",
   "metadata": {},
   "outputs": [
    {
     "name": "stdout",
     "output_type": "stream",
     "text": [
      "<itertools.filterfalse object at 0x11f736d40>\n",
      "1 3 5 7 9 11 13 15 17 19 21 23 25 27 29 31 33 35 37 39 "
     ]
    }
   ],
   "source": [
    "#complimentary for filter that returns the values for which the fucntion is false\n",
    "import itertools\n",
    "even_map = itertools.filterfalse(even, range(1,41))\n",
    "print(even_map)\n",
    "for i in even_map:\n",
    "    print(i, end=' ')"
   ]
  },
  {
   "cell_type": "code",
   "execution_count": 272,
   "id": "9fd5bddc",
   "metadata": {},
   "outputs": [
    {
     "name": "stdout",
     "output_type": "stream",
     "text": [
      "['raju', 'Madhu']\n"
     ]
    }
   ],
   "source": [
    "names = [\"raju\", \"Madhu\", \"Adam\", \"eve\", \"netapp\"]\n",
    "filter_names = list(filter(lambda x: x[-1]=='u', names))\n",
    "print(filter_names)"
   ]
  },
  {
   "cell_type": "markdown",
   "id": "eb240b99",
   "metadata": {},
   "source": [
    "##reduce(function, iterable, [initialiser])\n",
    "1. apply the function with two arguments for the values in the iterable cummalatively left to right so as to reduce the iterable into one value\n",
    "\n",
    "for example: \n",
    "\n",
    "\n",
    "reduce(lambda x,y: x+y, [1,2,3,4,5,6])\n",
    "\n",
    "1. x is called the accumulator and y is updated value from the iterable \n",
    "2. if the optinal initialiser is present then it was palced before the items of iterable in the caluclation and serves as default when iterable is empty\n",
    "3. if iterable contains only one value and initialsier is not given then the first item is returned\n",
    "\n"
   ]
  },
  {
   "cell_type": "code",
   "execution_count": 279,
   "id": "922c335c",
   "metadata": {},
   "outputs": [
    {
     "name": "stdout",
     "output_type": "stream",
     "text": [
      "21 Without intialiser\n",
      "30 With intialiser\n",
      "10 with empty iterable\n",
      "1 iterable with single value and no initilaiser \n"
     ]
    }
   ],
   "source": [
    "from functools import reduce\n",
    "var = reduce(lambda x,y: x+y ,[1,2,3,4,5,6])\n",
    "print(var, \"Without intialiser\")\n",
    "\n",
    "var = reduce(lambda x,y: x+y ,[1,2,3,4,5,6], 9)\n",
    "print(var, \"With intialiser\")\n",
    "\n",
    "var = reduce(lambda x,y: x+y ,[], 10)\n",
    "print(var, \"with empty iterable\")\n",
    "\n",
    "var = reduce(lambda x,y: x+y ,[1])\n",
    "print(var, \"iterable with single value and no initilaiser \")\n"
   ]
  },
  {
   "cell_type": "code",
   "execution_count": null,
   "id": "6c1585ae",
   "metadata": {},
   "outputs": [],
   "source": []
  }
 ],
 "metadata": {
  "kernelspec": {
   "display_name": "venv",
   "language": "python",
   "name": "python3"
  },
  "language_info": {
   "codemirror_mode": {
    "name": "ipython",
    "version": 3
   },
   "file_extension": ".py",
   "mimetype": "text/x-python",
   "name": "python",
   "nbconvert_exporter": "python",
   "pygments_lexer": "ipython3",
   "version": "3.11.10"
  }
 },
 "nbformat": 4,
 "nbformat_minor": 5
}
