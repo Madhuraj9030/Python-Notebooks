{
 "cells": [
  {
   "cell_type": "markdown",
   "metadata": {},
   "source": [
    "###Mutable Sequences\n",
    "\n",
    "whose content can be changes at same memory address are called mutable\n",
    "\n",
    "Mutable Sequences: \n",
    "1. List \n",
    "2. bytearray\n"
   ]
  },
  {
   "cell_type": "markdown",
   "metadata": {},
   "source": [
    "<h3 style=\"text-align: center \"> List</h3>"
   ]
  },
  {
   "cell_type": "markdown",
   "metadata": {},
   "source": [
    "####Lists are mutable sequences, typically used to store collections of homogenous or heterogeneous items\n",
    "####creation of list can be done by using methods:\n",
    "1. <varname> = []\n",
    "2. <varname> = [a, [a,b,c]]\n",
    "3. <varname> = [x for x in iterable]\n",
    "4. <varname> = list() or list(iterable)\n"
   ]
  },
  {
   "cell_type": "code",
   "execution_count": 6,
   "metadata": {},
   "outputs": [
    {
     "name": "stdout",
     "output_type": "stream",
     "text": [
      "[10, 20, 30, 40, 50, 60, 70, 80, 90, 100]\n",
      "[10, 20, 30, 40, 50, 60, 70, 80, 90, 100]\n",
      "[10, 20, 30, 40, 50, 60, 70, 80, 90, 100]\n"
     ]
    }
   ],
   "source": [
    "#list creation using iterable \n",
    "list1 = [i for i in range(10,110,10)]\n",
    "#list creation using iterable inside a list()\n",
    "list2 = list(range(10,110,10))\n",
    "#list creation using unpacking \n",
    "list3 = [*range(10,110,10)]\n",
    "print(list1)\n",
    "print(list2)\n",
    "print(list3)"
   ]
  },
  {
   "cell_type": "markdown",
   "metadata": {},
   "source": [
    "####reading content of a list can be done by using following ways:\n",
    "1. index\n",
    "2. slicing :\n",
    "\n",
    "    a.slicing object : slice(start, stop, step)\n",
    "3. for loop\n",
    "4. iterator \n",
    "5. Enumerate"
   ]
  },
  {
   "cell_type": "code",
   "execution_count": 28,
   "metadata": {},
   "outputs": [
    {
     "name": "stdout",
     "output_type": "stream",
     "text": [
      "\n",
      "reading contents of list slice object\n",
      "[10, 20, 30, 40, 50, 60, 70, 80, 90, 100]\n",
      "\n",
      "******************************\n",
      "reading content of list using iterator \n",
      "10\n",
      "20\n",
      "30\n",
      "40\n",
      "50\n",
      "60\n",
      "70\n",
      "80\n",
      "90\n",
      "100\n",
      "******************************\n",
      "reading content of list using enumerate\n",
      "(1, 10)\n",
      "(2, 20)\n",
      "(3, 30)\n",
      "(4, 40)\n",
      "(5, 50)\n",
      "(6, 60)\n",
      "(7, 70)\n",
      "(8, 80)\n",
      "(9, 90)\n",
      "(10, 100)\n"
     ]
    }
   ],
   "source": [
    "print()\n",
    "#reading contents of list slice object\n",
    "print(\"reading contents of list slice object\")\n",
    "list1 = [i for i in range(10,110,10)]\n",
    "s = slice(0,11,1)\n",
    "l = list1[s]\n",
    "print(l)\n",
    "print()\n",
    "print(\"*\"*30)\n",
    "#reading content of list using iterator \n",
    "print(\"reading content of list using iterator \")\n",
    "iterator_ = iter(list1)\n",
    "print(next(iterator_))\n",
    "print(next(iterator_))\n",
    "print(next(iterator_))\n",
    "print(next(iterator_))\n",
    "print(next(iterator_))\n",
    "print(next(iterator_))\n",
    "print(next(iterator_))\n",
    "print(next(iterator_))\n",
    "print(next(iterator_))\n",
    "print(next(iterator_))\n",
    "print(\"*\"*30)\n",
    "# print(next(iterator_))\n",
    "#reading content of list using enumerate\n",
    "print(\"reading content of list using enumerate\")\n",
    "enumerate_obj = enumerate(list1, start=1)\n",
    "for i in enumerate_obj:\n",
    "    print(i)\n"
   ]
  },
  {
   "cell_type": "markdown",
   "metadata": {},
   "source": [
    "###Mutable operations of list \n",
    "\n",
    "<ol>\n",
    "    <li>Replacing or updating values\n",
    "        <ul>\n",
    "            <li>index</li>\n",
    "            <li>slicing</li>\n",
    "        </ul>\n",
    "    </li>\n",
    "    <li>Appending values within list\n",
    "        <ul>\n",
    "            <li>append(value)</li>\n",
    "            <li>slicing operator</li>\n",
    "            <li>extend(iterable)</li>\n",
    "        </ul>\n",
    "    </li>\n",
    "    <li>Removing values from list\n",
    "        <ul>\n",
    "            <li>using del keyword</li>\n",
    "            <li>using remove method</li>\n",
    "            <li>using clear method</li>\n",
    "            <li>using pop method</li>\n",
    "        </ul>\n",
    "    </li>\n",
    "    <li>Inserting value within list\n",
    "        <ul>\n",
    "            <li>insert method</li>\n",
    "            <li>slicing operator</li>\n",
    "        </ul>\n",
    "    </li>\n",
    "    <li>Copy or cloning\n",
    "        <ul>\n",
    "            <li>Alias copy</li>\n",
    "            <li>Shallow copy </li>\n",
    "            <li>Deep copy</li>\n",
    "        </ul>\n",
    "    </li>\n",
    "\n",
    "</ol>"
   ]
  },
  {
   "cell_type": "code",
   "execution_count": 33,
   "metadata": {},
   "outputs": [
    {
     "name": "stdout",
     "output_type": "stream",
     "text": [
      "replacing value using indexing\n",
      "[10, 20, 30, 40, 50, 60, 70, 80, 90, 100]\n",
      "[11, 20, 30, 40, 50, 60, 70, 80, 90, 99]\n",
      "replacing one or more values using slicing\n"
     ]
    }
   ],
   "source": [
    "#1. replacing value using indexing \n",
    "print(\"replacing value using indexing\")\n",
    "list1 = [*range(10,110,10)]\n",
    "print(list1)\n",
    "list1[0]= 11\n",
    "list1[-1] = 99\n",
    "print(list1)\n",
    "#2. Replace values using Slicing \n",
    "print(\"replacing one or more values using slicing\")\n"
   ]
  },
  {
   "cell_type": "code",
   "execution_count": null,
   "metadata": {},
   "outputs": [],
   "source": []
  }
 ],
 "metadata": {
  "kernelspec": {
   "display_name": "venv",
   "language": "python",
   "name": "python3"
  },
  "language_info": {
   "codemirror_mode": {
    "name": "ipython",
    "version": 3
   },
   "file_extension": ".py",
   "mimetype": "text/x-python",
   "name": "python",
   "nbconvert_exporter": "python",
   "pygments_lexer": "ipython3",
   "version": "3.11.10"
  }
 },
 "nbformat": 4,
 "nbformat_minor": 2
}
